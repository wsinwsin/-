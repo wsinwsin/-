{
 "cells": [
  {
   "cell_type": "code",
   "execution_count": 1,
   "metadata": {},
   "outputs": [
    {
     "data": {
      "text/plain": [
       "'\\n#textに含まれる単語をkeyとしその単語の個数をvalueとした辞書を返す.\\ndef get_mecab_text(text):\\n    word = {}\\n    node = mt.parseToNode(text)\\n    while node:\\n        fields = node.feature.split(\",\")\\n        if (fields[0] == \\'名詞\\' or fields[0] == \\'動詞\\' or fields[0] == \\'形容詞\\'):\\n            w = node.surface\\n            word[w] = word.get(w, 0) + 1\\n        node = node.next\\n    return word\\n'"
      ]
     },
     "execution_count": 1,
     "metadata": {},
     "output_type": "execute_result"
    }
   ],
   "source": [
    "\"\"\"\n",
    "#textに含まれる単語をkeyとしその単語の個数をvalueとした辞書を返す.\n",
    "def get_mecab_text(text):\n",
    "    word = {}\n",
    "    node = mt.parseToNode(text)\n",
    "    while node:\n",
    "        fields = node.feature.split(\",\")\n",
    "        if (fields[0] == '名詞' or fields[0] == '動詞' or fields[0] == '形容詞'):\n",
    "            w = node.surface\n",
    "            word[w] = word.get(w, 0) + 1\n",
    "        node = node.next\n",
    "    return word\n",
    "\"\"\""
   ]
  },
  {
   "cell_type": "markdown",
   "metadata": {},
   "source": [
    "# word2vecとdoc2vecをそれぞれ学習させる"
   ]
  },
  {
   "cell_type": "code",
   "execution_count": 2,
   "metadata": {},
   "outputs": [],
   "source": [
    "from gensim.models import word2vec\n",
    "import MeCab\n",
    "import numpy as np\n",
    "import json\n",
    "import hashlib\n",
    "from sklearn.cross_decomposition import CCA\n",
    "from googletrans import Translator"
   ]
  },
  {
   "cell_type": "code",
   "execution_count": 3,
   "metadata": {},
   "outputs": [
    {
     "data": {
      "text/plain": [
       "'EOS\\n'"
      ]
     },
     "execution_count": 3,
     "metadata": {},
     "output_type": "execute_result"
    }
   ],
   "source": [
    "translator = Translator()\n",
    "model = word2vec.Word2Vec.load(\"wiki_plus.model\")\n",
    "mt = MeCab.Tagger('-d /usr/local/lib/mecab/dic/mecab-ipadic-neologd/')\n",
    "mt.parse('')"
   ]
  },
  {
   "cell_type": "code",
   "execution_count": 4,
   "metadata": {},
   "outputs": [],
   "source": [
    "from gensim.models.doc2vec import Doc2Vec\n",
    "from gensim.models.doc2vec import TaggedDocument\n",
    "model_doc = Doc2Vec.load(\"jawiki.doc2vec.dbow300d.model\")"
   ]
  },
  {
   "cell_type": "markdown",
   "metadata": {},
   "source": [
    "# wikipediaから都道府県についての文章を拾ってきてデータフレーム化"
   ]
  },
  {
   "cell_type": "code",
   "execution_count": 5,
   "metadata": {},
   "outputs": [
    {
     "name": "stderr",
     "output_type": "stream",
     "text": [
      "/Users/wsiny/.pyenv/versions/3.8.2/lib/python3.8/site-packages/pandas/compat/__init__.py:117: UserWarning: Could not import the lzma module. Your installed Python is incomplete. Attempting to use lzma compression will result in a RuntimeError.\n",
      "  warnings.warn(msg)\n"
     ]
    },
    {
     "data": {
      "text/html": [
       "<div>\n",
       "<style scoped>\n",
       "    .dataframe tbody tr th:only-of-type {\n",
       "        vertical-align: middle;\n",
       "    }\n",
       "\n",
       "    .dataframe tbody tr th {\n",
       "        vertical-align: top;\n",
       "    }\n",
       "\n",
       "    .dataframe thead th {\n",
       "        text-align: right;\n",
       "    }\n",
       "</style>\n",
       "<table border=\"1\" class=\"dataframe\">\n",
       "  <thead>\n",
       "    <tr style=\"text-align: right;\">\n",
       "      <th></th>\n",
       "      <th>text</th>\n",
       "    </tr>\n",
       "  </thead>\n",
       "  <tbody>\n",
       "    <tr>\n",
       "      <th>北海道</th>\n",
       "      <td>■―政令指定都市/■―市/■―町/■―村地理院地図\\nGoogle\\nBing\\nGeoHa...</td>\n",
       "    </tr>\n",
       "    <tr>\n",
       "      <th>青森県</th>\n",
       "      <td>■―市/■―町/■―村地理院地図\\nGoogle\\nBing\\nGeoHack\\nMapFa...</td>\n",
       "    </tr>\n",
       "    <tr>\n",
       "      <th>岩手県</th>\n",
       "      <td>■―市/■―町/■―村地理院地図\\nGoogle\\nBing\\nGeoHack\\nMapFa...</td>\n",
       "    </tr>\n",
       "    <tr>\n",
       "      <th>宮城県</th>\n",
       "      <td>■―政令指定都市/■―市/■―町/■―村地理院地図\\nGoogle\\nBing\\nGeoHa...</td>\n",
       "    </tr>\n",
       "    <tr>\n",
       "      <th>秋田県</th>\n",
       "      <td>■―市/■―町/■―村地理院地図\\nGoogle\\nBing\\nGeoHack\\nMapFa...</td>\n",
       "    </tr>\n",
       "    <tr>\n",
       "      <th>山形県</th>\n",
       "      <td>■―市/■―町/■―村地理院地図\\nGoogle\\nBing\\nGeoHack\\nMapFa...</td>\n",
       "    </tr>\n",
       "    <tr>\n",
       "      <th>福島県</th>\n",
       "      <td>■―市/■―町/■―村地理院地図\\nGoogle\\nBing\\nGeoHack\\nMapFa...</td>\n",
       "    </tr>\n",
       "    <tr>\n",
       "      <th>茨城県</th>\n",
       "      <td>■―市/■―町/■―村地理院地図\\nGoogle\\nBing\\nGeoHack\\nMapFa...</td>\n",
       "    </tr>\n",
       "    <tr>\n",
       "      <th>栃木県</th>\n",
       "      <td>■―市/■―町地理院地図\\nGoogle\\nBing\\nGeoHack\\nMapFan\\nM...</td>\n",
       "    </tr>\n",
       "    <tr>\n",
       "      <th>群馬県</th>\n",
       "      <td>■―市/■―町/■―村地理院地図\\nGoogle\\nBing\\nGeoHack\\nMapFa...</td>\n",
       "    </tr>\n",
       "    <tr>\n",
       "      <th>埼玉県</th>\n",
       "      <td>■―政令指定都市/■―市/■―町/■―村地理院地図\\nGoogle\\nBing\\nGeoHa...</td>\n",
       "    </tr>\n",
       "    <tr>\n",
       "      <th>千葉県</th>\n",
       "      <td>■―政令指定都市/■―市/■―町/■―村地理院地図\\nGoogle\\nBing\\nGeoHa...</td>\n",
       "    </tr>\n",
       "    <tr>\n",
       "      <th>東京都</th>\n",
       "      <td>■―区/■―市/■―町/■―村地理院地図\\nGoogle\\nBing\\nGeoHack\\nM...</td>\n",
       "    </tr>\n",
       "    <tr>\n",
       "      <th>神奈川県</th>\n",
       "      <td>■―政令指定都市/■―市/■―町/■―村地理院地図\\nGoogle\\nBing\\nGeoHa...</td>\n",
       "    </tr>\n",
       "    <tr>\n",
       "      <th>新潟県</th>\n",
       "      <td>■―政令指定都市/■―市/■―町/■―村地理院地図\\nGoogle\\nBing\\nGeoHa...</td>\n",
       "    </tr>\n",
       "    <tr>\n",
       "      <th>富山県</th>\n",
       "      <td>■―市/■―町/■―村地理院地図\\nGoogle\\nBing\\nGeoHack\\nMapFa...</td>\n",
       "    </tr>\n",
       "    <tr>\n",
       "      <th>石川県</th>\n",
       "      <td>■―市/■―町地理院地図\\nGoogle\\nBing\\nGeoHack\\nMapFan\\nM...</td>\n",
       "    </tr>\n",
       "    <tr>\n",
       "      <th>福井県</th>\n",
       "      <td>■―市/■―町地理院地図\\nGoogle\\nBing\\nGeoHack\\nMapFan\\nM...</td>\n",
       "    </tr>\n",
       "    <tr>\n",
       "      <th>山梨県</th>\n",
       "      <td>■―市/■―町/■―村地理院地図\\nGoogle\\nBing\\nGeoHack\\nMapFa...</td>\n",
       "    </tr>\n",
       "    <tr>\n",
       "      <th>長野県</th>\n",
       "      <td>■―市/■―町/■―村地理院地図\\nGoogle\\nBing\\nGeoHack\\nMapFa...</td>\n",
       "    </tr>\n",
       "    <tr>\n",
       "      <th>岐阜県</th>\n",
       "      <td>■―市/■―町/■―村地理院地図\\nGoogle\\nBing\\nGeoHack\\nMapFa...</td>\n",
       "    </tr>\n",
       "    <tr>\n",
       "      <th>静岡県</th>\n",
       "      <td>■―政令指定都市/■―市/■―町地理院地図\\nGoogle\\nBing\\nGeoHack\\n...</td>\n",
       "    </tr>\n",
       "    <tr>\n",
       "      <th>愛知県</th>\n",
       "      <td>■―政令指定都市/■―市/■―町/■―村地理院地図\\nGoogle\\nBing\\nGeoHa...</td>\n",
       "    </tr>\n",
       "    <tr>\n",
       "      <th>三重県</th>\n",
       "      <td>■―市/■―町地理院地図\\nGoogle\\nBing\\nGeoHack\\nMapFan\\nM...</td>\n",
       "    </tr>\n",
       "    <tr>\n",
       "      <th>滋賀県</th>\n",
       "      <td>■―市/■―町地理院地図\\nGoogle\\nBing\\nGeoHack\\nMapFan\\nM...</td>\n",
       "    </tr>\n",
       "    <tr>\n",
       "      <th>京都府</th>\n",
       "      <td>■―政令指定都市/■―市/■―町/■―村地理院地図\\nGoogle\\nBing\\nGeoHa...</td>\n",
       "    </tr>\n",
       "    <tr>\n",
       "      <th>大阪府</th>\n",
       "      <td>■―政令指定都市/■―市/■―町/■―村地理院地図\\nGoogle\\nBing\\nGeoHa...</td>\n",
       "    </tr>\n",
       "    <tr>\n",
       "      <th>兵庫県</th>\n",
       "      <td>■―政令指定都市/■―市/■―町地理院地図\\nGoogle\\nBing\\nGeoHack\\n...</td>\n",
       "    </tr>\n",
       "    <tr>\n",
       "      <th>奈良県</th>\n",
       "      <td>■―市/■―町/■―村地理院地図\\nGoogle\\nBing\\nGeoHack\\nMapFa...</td>\n",
       "    </tr>\n",
       "    <tr>\n",
       "      <th>和歌山県</th>\n",
       "      <td>■―市/■―町/■―村地理院地図\\nGoogle\\nBing\\nGeoHack\\nMapFa...</td>\n",
       "    </tr>\n",
       "    <tr>\n",
       "      <th>鳥取県</th>\n",
       "      <td>■―市/■―町/■―村地理院地図\\nGoogle\\nBing\\nGeoHack\\nMapFa...</td>\n",
       "    </tr>\n",
       "    <tr>\n",
       "      <th>島根県</th>\n",
       "      <td>■―市/■―町/■―村地理院地図\\nGoogle\\nBing\\nGeoHack\\nMapFa...</td>\n",
       "    </tr>\n",
       "    <tr>\n",
       "      <th>岡山県</th>\n",
       "      <td>■―政令指定都市/■―市/■―町/■―村地理院地図\\nGoogle\\nBing\\nGeoHa...</td>\n",
       "    </tr>\n",
       "    <tr>\n",
       "      <th>広島県</th>\n",
       "      <td>鳥取県、島根県、岡山県、山口県、愛媛県、※香川県■―政令指定都市/■―市/■―町地理院地図\\...</td>\n",
       "    </tr>\n",
       "    <tr>\n",
       "      <th>山口県</th>\n",
       "      <td>■―市/■―町地理院地図\\nGoogle\\nBing\\nGeoHack\\nMapFan\\nM...</td>\n",
       "    </tr>\n",
       "    <tr>\n",
       "      <th>徳島県</th>\n",
       "      <td>■―市/■―町/■―村地理院地図\\nGoogle\\nBing\\nGeoHack\\nMapFa...</td>\n",
       "    </tr>\n",
       "    <tr>\n",
       "      <th>香川県</th>\n",
       "      <td>■―市/■―町地理院地図\\nGoogle\\nBing\\nGeoHack\\nMapFan\\nM...</td>\n",
       "    </tr>\n",
       "    <tr>\n",
       "      <th>愛媛県</th>\n",
       "      <td>■―市/■―町地理院地図\\nGoogle\\nBing\\nGeoHack\\nMapFan\\nM...</td>\n",
       "    </tr>\n",
       "    <tr>\n",
       "      <th>高知県</th>\n",
       "      <td>■―市/■―町/■―村地理院地図\\nGoogle\\nBing\\nGeoHack\\nMapFa...</td>\n",
       "    </tr>\n",
       "    <tr>\n",
       "      <th>福岡県</th>\n",
       "      <td>■―政令指定都市/■―市/■―町/■―村地理院地図\\nGoogle\\nBing\\nGeoHa...</td>\n",
       "    </tr>\n",
       "    <tr>\n",
       "      <th>佐賀県</th>\n",
       "      <td>■―市/■―町地理院地図\\nGoogle\\nBing\\nGeoHack\\nMapFan\\nM...</td>\n",
       "    </tr>\n",
       "    <tr>\n",
       "      <th>長崎県</th>\n",
       "      <td>■―市/■―町地理院地図\\nGoogle\\nBing\\nGeoHack\\nMapFan\\nM...</td>\n",
       "    </tr>\n",
       "    <tr>\n",
       "      <th>熊本県</th>\n",
       "      <td>■―政令指定都市/■―市/■―町/■―村地理院地図\\nGoogle\\nBing\\nGeoHa...</td>\n",
       "    </tr>\n",
       "    <tr>\n",
       "      <th>大分県</th>\n",
       "      <td>■―市/■―町/■―村地理院地図\\nGoogle\\nBing\\nGeoHack\\nMapFa...</td>\n",
       "    </tr>\n",
       "    <tr>\n",
       "      <th>宮崎県</th>\n",
       "      <td>■―市/■―町/■―村地理院地図\\nGoogle\\nBing\\nGeoHack\\nMapFa...</td>\n",
       "    </tr>\n",
       "    <tr>\n",
       "      <th>鹿児島県</th>\n",
       "      <td>■―市/■―町/■―村地理院地図\\nGoogle\\nBing\\nGeoHack\\nMapFa...</td>\n",
       "    </tr>\n",
       "    <tr>\n",
       "      <th>沖縄県</th>\n",
       "      <td>■―市/■―町/■―村地理院地図\\nGoogle\\nBing\\nGeoHack\\nMapFa...</td>\n",
       "    </tr>\n",
       "  </tbody>\n",
       "</table>\n",
       "</div>"
      ],
      "text/plain": [
       "                                                   text\n",
       "北海道   ■―政令指定都市/■―市/■―町/■―村地理院地図\\nGoogle\\nBing\\nGeoHa...\n",
       "青森県   ■―市/■―町/■―村地理院地図\\nGoogle\\nBing\\nGeoHack\\nMapFa...\n",
       "岩手県   ■―市/■―町/■―村地理院地図\\nGoogle\\nBing\\nGeoHack\\nMapFa...\n",
       "宮城県   ■―政令指定都市/■―市/■―町/■―村地理院地図\\nGoogle\\nBing\\nGeoHa...\n",
       "秋田県   ■―市/■―町/■―村地理院地図\\nGoogle\\nBing\\nGeoHack\\nMapFa...\n",
       "山形県   ■―市/■―町/■―村地理院地図\\nGoogle\\nBing\\nGeoHack\\nMapFa...\n",
       "福島県   ■―市/■―町/■―村地理院地図\\nGoogle\\nBing\\nGeoHack\\nMapFa...\n",
       "茨城県   ■―市/■―町/■―村地理院地図\\nGoogle\\nBing\\nGeoHack\\nMapFa...\n",
       "栃木県   ■―市/■―町地理院地図\\nGoogle\\nBing\\nGeoHack\\nMapFan\\nM...\n",
       "群馬県   ■―市/■―町/■―村地理院地図\\nGoogle\\nBing\\nGeoHack\\nMapFa...\n",
       "埼玉県   ■―政令指定都市/■―市/■―町/■―村地理院地図\\nGoogle\\nBing\\nGeoHa...\n",
       "千葉県   ■―政令指定都市/■―市/■―町/■―村地理院地図\\nGoogle\\nBing\\nGeoHa...\n",
       "東京都   ■―区/■―市/■―町/■―村地理院地図\\nGoogle\\nBing\\nGeoHack\\nM...\n",
       "神奈川県  ■―政令指定都市/■―市/■―町/■―村地理院地図\\nGoogle\\nBing\\nGeoHa...\n",
       "新潟県   ■―政令指定都市/■―市/■―町/■―村地理院地図\\nGoogle\\nBing\\nGeoHa...\n",
       "富山県   ■―市/■―町/■―村地理院地図\\nGoogle\\nBing\\nGeoHack\\nMapFa...\n",
       "石川県   ■―市/■―町地理院地図\\nGoogle\\nBing\\nGeoHack\\nMapFan\\nM...\n",
       "福井県   ■―市/■―町地理院地図\\nGoogle\\nBing\\nGeoHack\\nMapFan\\nM...\n",
       "山梨県   ■―市/■―町/■―村地理院地図\\nGoogle\\nBing\\nGeoHack\\nMapFa...\n",
       "長野県   ■―市/■―町/■―村地理院地図\\nGoogle\\nBing\\nGeoHack\\nMapFa...\n",
       "岐阜県   ■―市/■―町/■―村地理院地図\\nGoogle\\nBing\\nGeoHack\\nMapFa...\n",
       "静岡県   ■―政令指定都市/■―市/■―町地理院地図\\nGoogle\\nBing\\nGeoHack\\n...\n",
       "愛知県   ■―政令指定都市/■―市/■―町/■―村地理院地図\\nGoogle\\nBing\\nGeoHa...\n",
       "三重県   ■―市/■―町地理院地図\\nGoogle\\nBing\\nGeoHack\\nMapFan\\nM...\n",
       "滋賀県   ■―市/■―町地理院地図\\nGoogle\\nBing\\nGeoHack\\nMapFan\\nM...\n",
       "京都府   ■―政令指定都市/■―市/■―町/■―村地理院地図\\nGoogle\\nBing\\nGeoHa...\n",
       "大阪府   ■―政令指定都市/■―市/■―町/■―村地理院地図\\nGoogle\\nBing\\nGeoHa...\n",
       "兵庫県   ■―政令指定都市/■―市/■―町地理院地図\\nGoogle\\nBing\\nGeoHack\\n...\n",
       "奈良県   ■―市/■―町/■―村地理院地図\\nGoogle\\nBing\\nGeoHack\\nMapFa...\n",
       "和歌山県  ■―市/■―町/■―村地理院地図\\nGoogle\\nBing\\nGeoHack\\nMapFa...\n",
       "鳥取県   ■―市/■―町/■―村地理院地図\\nGoogle\\nBing\\nGeoHack\\nMapFa...\n",
       "島根県   ■―市/■―町/■―村地理院地図\\nGoogle\\nBing\\nGeoHack\\nMapFa...\n",
       "岡山県   ■―政令指定都市/■―市/■―町/■―村地理院地図\\nGoogle\\nBing\\nGeoHa...\n",
       "広島県   鳥取県、島根県、岡山県、山口県、愛媛県、※香川県■―政令指定都市/■―市/■―町地理院地図\\...\n",
       "山口県   ■―市/■―町地理院地図\\nGoogle\\nBing\\nGeoHack\\nMapFan\\nM...\n",
       "徳島県   ■―市/■―町/■―村地理院地図\\nGoogle\\nBing\\nGeoHack\\nMapFa...\n",
       "香川県   ■―市/■―町地理院地図\\nGoogle\\nBing\\nGeoHack\\nMapFan\\nM...\n",
       "愛媛県   ■―市/■―町地理院地図\\nGoogle\\nBing\\nGeoHack\\nMapFan\\nM...\n",
       "高知県   ■―市/■―町/■―村地理院地図\\nGoogle\\nBing\\nGeoHack\\nMapFa...\n",
       "福岡県   ■―政令指定都市/■―市/■―町/■―村地理院地図\\nGoogle\\nBing\\nGeoHa...\n",
       "佐賀県   ■―市/■―町地理院地図\\nGoogle\\nBing\\nGeoHack\\nMapFan\\nM...\n",
       "長崎県   ■―市/■―町地理院地図\\nGoogle\\nBing\\nGeoHack\\nMapFan\\nM...\n",
       "熊本県   ■―政令指定都市/■―市/■―町/■―村地理院地図\\nGoogle\\nBing\\nGeoHa...\n",
       "大分県   ■―市/■―町/■―村地理院地図\\nGoogle\\nBing\\nGeoHack\\nMapFa...\n",
       "宮崎県   ■―市/■―町/■―村地理院地図\\nGoogle\\nBing\\nGeoHack\\nMapFa...\n",
       "鹿児島県  ■―市/■―町/■―村地理院地図\\nGoogle\\nBing\\nGeoHack\\nMapFa...\n",
       "沖縄県   ■―市/■―町/■―村地理院地図\\nGoogle\\nBing\\nGeoHack\\nMapFa..."
      ]
     },
     "execution_count": 5,
     "metadata": {},
     "output_type": "execute_result"
    }
   ],
   "source": [
    "import codecs\n",
    "import re\n",
    "import requests\n",
    "from bs4 import BeautifulSoup\n",
    "import pandas as pd\n",
    "\n",
    "url = \"https://ja.wikipedia.org/wiki/\"\n",
    "keyword_list = [\"北海道\",\"青森県\",\"岩手県\",\"宮城県\",\"秋田県\",\"山形県\",\"福島県\",\"茨城県\",\n",
    "                \"栃木県\",\"群馬県\",\"埼玉県\",\"千葉県\",\"東京都\",\"神奈川県\",\"新潟県\",\"富山県\",\n",
    "                \"石川県\",\"福井県\",\"山梨県\",\"長野県\",\"岐阜県\",\"静岡県\",\"愛知県\",\"三重県\",\n",
    "                \"滋賀県\",\"京都府\",\"大阪府\",\"兵庫県\",\"奈良県\",\"和歌山県\",\"鳥取県\",\"島根県\",\n",
    "                \"岡山県\",\"広島県\",\"山口県\",\"徳島県\",\"香川県\",\"愛媛県\",\"高知県\",\"福岡県\",\n",
    "                \"佐賀県\",\"長崎県\",\"熊本県\",\"大分県\",\"宮崎県\",\"鹿児島県\",\"沖縄県\"]\n",
    "\n",
    "training_docs = []\n",
    "df = pd.DataFrame(columns=['text'])\n",
    "for keyword in keyword_list:\n",
    "\n",
    "    response = requests.get(url + keyword)\n",
    "    # htmlに変換\n",
    "    html = response.text\n",
    "    \n",
    "    soup = BeautifulSoup(html, 'lxml')\n",
    "    corpus = []\n",
    "    for p_tag in soup.find_all('p'):\n",
    "        text = \"\".join(p_tag.text.strip().split(\" \"))\n",
    "        if len(text) == 0:\n",
    "            continue\n",
    "        # e.g. [注釈9] -> ''\n",
    "        text = re.sub(r\"\\[注釈[0-9]+\\]\", \"\", text)\n",
    "        # e.g. [20] -> ''\n",
    "        text = re.sub(r\"\\[[0-9]+\\]\", \"\", text)\n",
    "        corpus.append(text)\n",
    "    corpus = ''.join(corpus)\n",
    "    df.loc[keyword] = corpus\n",
    "df"
   ]
  },
  {
   "cell_type": "markdown",
   "metadata": {},
   "source": [
    "# testを分かち書きに変換"
   ]
  },
  {
   "cell_type": "code",
   "execution_count": 6,
   "metadata": {},
   "outputs": [],
   "source": [
    "#get_tags_for_doc2vec('私はサッカー選手です.')出力['私', 'は', 'サッカー選手', 'です', '。']\n",
    "def get_tags_for_doc2vec(text):\n",
    "    word = []\n",
    "    node = mt.parseToNode(text)\n",
    "    while node:\n",
    "        fields = node.feature.split(\",\")\n",
    "        if node.surface in model.wv:\n",
    "            w = node.surface\n",
    "            word.append(w)\n",
    "        node = node.next\n",
    "    return word"
   ]
  },
  {
   "cell_type": "code",
   "execution_count": 7,
   "metadata": {},
   "outputs": [
    {
     "name": "stdout",
     "output_type": "stream",
     "text": [
      "鳥取県、島根県、岡山県、山口県、愛媛県、※香川県■―政令指定都市/■―市/■―町地理院地図\n",
      "Google\n",
      "Bing\n",
      "GeoHack\n",
      "MapFan\n",
      "Mapion\n",
      "Yahoo!\n",
      "NAVITIME\n",
      "ゼンリン広島県（ひろしまけん、英:HiroshimaPrefecture）は、日本の中国地方に位置する県。県庁所在地及び最大の都市は広島市。広島都市圏と備後都市圏を中心に工業（自動車産業、製鉄、造船）・商業が盛ん。県庁所在地の広島市は中国・四国地方最大の都市であり、政令指定都市に指定されている。一方で海・山の豊富な自然にも恵まれ、農業・漁業も盛んである。このため「日本国の縮図」とも呼ばれている。旧国制に倣\n"
     ]
    }
   ],
   "source": [
    "print(df.loc['広島県','text'][:300])"
   ]
  },
  {
   "cell_type": "code",
   "execution_count": 8,
   "metadata": {},
   "outputs": [
    {
     "data": {
      "text/plain": [
       "1"
      ]
     },
     "execution_count": 8,
     "metadata": {},
     "output_type": "execute_result"
    }
   ],
   "source": [
    "df.loc['広島県','text'].count('宮島')"
   ]
  },
  {
   "cell_type": "code",
   "execution_count": 9,
   "metadata": {},
   "outputs": [
    {
     "name": "stdout",
     "output_type": "stream",
     "text": [
      "('北海道', 0)\n",
      "('青森県', 0)\n",
      "('岩手県', 0)\n",
      "('宮城県', 0)\n",
      "('秋田県', 0)\n",
      "('山形県', 0)\n",
      "('福島県', 0)\n",
      "('茨城県', 0)\n",
      "('栃木県', 0)\n",
      "('群馬県', 0)\n",
      "('埼玉県', 0)\n",
      "('千葉県', 0)\n",
      "('東京都', 0)\n",
      "('神奈川県', 0)\n",
      "('新潟県', 0)\n",
      "('富山県', 0)\n",
      "('石川県', 0)\n",
      "('福井県', 0)\n",
      "('山梨県', 0)\n",
      "('長野県', 0)\n",
      "('岐阜県', 0)\n",
      "('静岡県', 0)\n",
      "('愛知県', 0)\n",
      "('三重県', 0)\n",
      "('滋賀県', 0)\n",
      "('京都府', 0)\n",
      "('大阪府', 0)\n",
      "('兵庫県', 0)\n",
      "('奈良県', 0)\n",
      "('和歌山県', 0)\n",
      "('鳥取県', 0)\n",
      "('島根県', 0)\n",
      "('岡山県', 0)\n",
      "('広島県', 1)\n",
      "('山口県', 0)\n",
      "('徳島県', 0)\n",
      "('香川県', 0)\n",
      "('愛媛県', 0)\n",
      "('高知県', 0)\n",
      "('福岡県', 0)\n",
      "('佐賀県', 0)\n",
      "('長崎県', 0)\n",
      "('熊本県', 0)\n",
      "('大分県', 0)\n",
      "('宮崎県', 0)\n",
      "('鹿児島県', 0)\n",
      "('沖縄県', 0)\n"
     ]
    }
   ],
   "source": [
    "for index, row in df.iterrows():\n",
    "    print((index,row['text'].count('宮島')))"
   ]
  },
  {
   "cell_type": "code",
   "execution_count": 10,
   "metadata": {},
   "outputs": [
    {
     "name": "stdout",
     "output_type": "stream",
     "text": [
      "['鳥取県', '、', '島根県', '、', '岡山県', '、', '山口県', '、', '愛媛県', '、', '※', '香川県', '■', '―', '政令指定都市', '市', '町', '地理院地図', 'Google', 'Bing', 'MapFan', 'Mapion', 'Yahoo!', 'NAVITIME', 'ゼンリン', '広島県', '（', 'ひろしま', 'けん', '、', '英', ':', '）', 'は', '、', '日本', 'の', '中国地方', 'に', '位置', 'する', '県', '。', '県庁所在地', '及び', '最大', 'の', '都市', 'は', '広島市', '。', '広島都市圏', 'と', '備後都市圏', 'を', '中心', 'に', '工業', '（', '自動車産業', '、', '製鉄', '、', '造船', '）', '・', '商業', 'が', '盛ん', '。', '県庁所在地', 'の', '広島市', 'は', '中国・四国地方', '最大', 'の', '都市', 'で', 'あり', '、', '政令指定都市', 'に', '指定', 'さ', 'れ', 'て', 'いる', '。', '一方', 'で', '海', '・', '山', 'の', '豊富', 'な', '自然', 'に', 'も']\n"
     ]
    }
   ],
   "source": [
    "print(get_tags_for_doc2vec(df.loc['広島県','text'])[:100])"
   ]
  },
  {
   "cell_type": "markdown",
   "metadata": {},
   "source": [
    "# これらの文章を追加で学習させる"
   ]
  },
  {
   "cell_type": "code",
   "execution_count": 11,
   "metadata": {},
   "outputs": [
    {
     "data": {
      "text/plain": [
       "\"\\n#追加学習\\ntraining_docs = []\\nfor i, v in df.iterrows():\\n    text = get_doc2vec_material_list(v['text']) \\n    training_docs.append(TaggedDocument(words=text,tags=[i]))\\n\""
      ]
     },
     "execution_count": 11,
     "metadata": {},
     "output_type": "execute_result"
    }
   ],
   "source": [
    "'''\n",
    "def get_doc2vec_material_list(text_list):\n",
    "    words_list = []\n",
    "    for i in text_list:\n",
    "        words_list.extend(get_tags_for_doc2vec(i))\n",
    "    return words_list\n",
    "'''\n",
    "'''\n",
    "#追加学習\n",
    "training_docs = []\n",
    "for i, v in df.iterrows():\n",
    "    text = get_doc2vec_material_list(v['text']) \n",
    "    training_docs.append(TaggedDocument(words=text,tags=[i]))\n",
    "'''\n",
    "#model_doc.build_vocab(training_docs, update=True)\n",
    "#model_doc.train(training_docs, total_examples=model.corpus_count, epochs=model.epochs)"
   ]
  },
  {
   "cell_type": "code",
   "execution_count": 12,
   "metadata": {},
   "outputs": [],
   "source": [
    "#textに含まれる単語をkeyとしその単語の個数をvalueとした辞書を返す.\n",
    "def get_tags(text):\n",
    "    word = {}\n",
    "    node = mt.parseToNode(text)\n",
    "    while node:\n",
    "        fields = node.feature.split(\",\")\n",
    "        # 名詞、動詞、形容詞のいずれか、かつ、w2vに登録されている単語だけ\n",
    "        if (fields[0] == '名詞' or fields[0] == '動詞' or fields[0] == '形容詞') and node.surface in model.wv:\n",
    "#        if (fields[0] == '名詞' or fields[0] == '形容詞') and node.surface in model.wv:\n",
    "            w = node.surface\n",
    "            word[w] = word.get(w, 0) + 1\n",
    "        node = node.next\n",
    "    return word"
   ]
  },
  {
   "cell_type": "code",
   "execution_count": 13,
   "metadata": {},
   "outputs": [],
   "source": [
    "class Event:\n",
    "    def __init__(self, id, type, score, desc, links):\n",
    "        self.id = id\n",
    "        self.type = type\n",
    "        self.score = score\n",
    "        self.desc = desc\n",
    "        self.tags = get_tags(desc)\n",
    "        self.links = links\n",
    "    \n",
    "    def __str__(self):\n",
    "        return 'id: {id} type: {type} score: {score} tags: {tags}'.format(id=self.id, type=self.type, score=self.score, tags=str(self.tags))\n",
    "\n",
    "    def __repr__(self):\n",
    "        return 'id: {id} type: {type} score: {score} tags: {tags}'.format(id=self.id, type=self.type, score=self.score, tags=str(self.tags))"
   ]
  },
  {
   "cell_type": "code",
   "execution_count": 14,
   "metadata": {},
   "outputs": [],
   "source": [
    "class Event_doc2vec(Event):\n",
    "    def __init__(self, id, type, score, desc, links):\n",
    "        super().__init__(id,type,score,desc,links)\n",
    "        self.tags = get_tags_for_doc2vec(desc)"
   ]
  },
  {
   "cell_type": "markdown",
   "metadata": {},
   "source": [
    "# eventsの中身"
   ]
  },
  {
   "cell_type": "code",
   "execution_count": 15,
   "metadata": {},
   "outputs": [],
   "source": [
    "events = {i: Event(i, [], 0.0, v['text'], []) for i, v in df.iterrows()}"
   ]
  },
  {
   "cell_type": "code",
   "execution_count": 16,
   "metadata": {},
   "outputs": [],
   "source": [
    "events_doc2vec = {i: Event_doc2vec(i, [], 0.0, v['text'], []) for i, v in df.iterrows()}"
   ]
  },
  {
   "cell_type": "code",
   "execution_count": 17,
   "metadata": {},
   "outputs": [],
   "source": [
    "# cos similality\n",
    "def cos_sim(v1, v2):\n",
    "    return np.dot(v1, v2) / (np.linalg.norm(v1) * np.linalg.norm(v2)) #ベクトルの積/（ベクトルの大きさ＊ベクトルの大きさ）\n",
    "\n",
    "# doc vec with weighted mean\n",
    "def weighted_mean_vec(e):\n",
    "    v = np.zeros(model.vector_size)\n",
    "    s = 1.0\n",
    "    for w,weight in e.tags.items():\n",
    "        v += weight * model.wv[w]  #Eventクラスeの単語wの個数＊単語wのベクトル\n",
    "        s += weight\n",
    "    return v / s\n",
    "\n",
    "# doc間のsimilality (weighted mean_vec and cos_sim)\n",
    "def event_sim_cos(e1, e2):\n",
    "    return cos_sim(weighted_mean_vec(e1), weighted_mean_vec(e2))"
   ]
  },
  {
   "cell_type": "code",
   "execution_count": 18,
   "metadata": {},
   "outputs": [],
   "source": [
    "# CCAの相関係数によるsimilality\n",
    "def get_vectors(e1):\n",
    "    return np.array([model.wv[w] for w,weight in e1.tags.items()]) # Eventクラスeの単語それぞれのベクトルを要素とする配列\n",
    "def event_sim_cca(e1, e2):\n",
    "    x1 = get_vectors(e1)\n",
    "    x2 = get_vectors(e2)\n",
    "    n = min(x1.shape[0], x2.shape[0])\n",
    "    assert(n >= 1)\n",
    "    cca = CCA(n_components=n)\n",
    "    cca.fit(x1.transpose(), x2.transpose())\n",
    "    return cca.score(x1.transpose(), x2.transpose())"
   ]
  },
  {
   "cell_type": "code",
   "execution_count": 19,
   "metadata": {},
   "outputs": [],
   "source": [
    "def tokenize(text):\n",
    "    return mt.parse(text).strip().split()"
   ]
  },
  {
   "cell_type": "code",
   "execution_count": 20,
   "metadata": {},
   "outputs": [],
   "source": [
    "#eventsはidをkeyそのidに対するeventをvalueとした辞書\n",
    "def search_events_cos(keywords, events):\n",
    "    e1 = Event('keywords', [], 0.0, keywords, []) #Event(id, type, score, desc, links)\n",
    "    if len(e1.tags) == 0:\n",
    "        raise NameError('Tag is empty')\n",
    "    sims = [(x.id, event_sim_cos(e1, x)) for k,x in events.items() if len(x.tags) >= 1]\n",
    "    return sorted(sims, key=lambda x:x[1], reverse=True)[:10]\n",
    "\n",
    "def search_events_cca(keywords, events):\n",
    "    e1 = Event('keywords', [], 0.0, keywords, [])\n",
    "    if len(e1.tags) == 0:\n",
    "        raise NameError('Tag is empty')\n",
    "    sims = [(x.id, event_sim_cca(e1, x)) for k,x in events.items() if len(x.tags) >= 1]\n",
    "    return sorted(sims, key=lambda x:x[1], reverse=True)[:10]"
   ]
  },
  {
   "cell_type": "code",
   "execution_count": 21,
   "metadata": {},
   "outputs": [],
   "source": [
    "#['都道府県']と['keyword']の類似度\n",
    "def search_events_doc2vec1(keywords,events):\n",
    "    e1 = Event_doc2vec('keywords',[],0.0,keywords,[])\n",
    "    if len(e1.tags) == 0:\n",
    "        raise NameError('Tag is empty')\n",
    "    sims = [( i, model_doc.docvecs.similarity_unseen_docs(model_doc, [i], e1.tags, alpha=1, min_alpha=0.0001, steps=5)) for i in keyword_list]\n",
    "    return sorted(sims,key=lambda x:x[1], reverse=True)[:10]"
   ]
  },
  {
   "cell_type": "code",
   "execution_count": 22,
   "metadata": {},
   "outputs": [],
   "source": [
    "#['都道府県']のtextと['keyword']の類似度\n",
    "def search_events_doc2vec2(keywords,events):\n",
    "    e1 = Event_doc2vec('keywords',[],0.0,keywords,[])\n",
    "    if len(e1.tags) == 0:\n",
    "        raise NameError('Tag is empty')\n",
    "    \n",
    "    sims = [( i, model_doc.docvecs.similarity_unseen_docs(model_doc, events[i].tags, e1.tags, alpha=1, min_alpha=0.0001, steps=5)) for i in keyword_list]\n",
    "    return sorted(sims,key=lambda x:x[1], reverse=True)[:10]"
   ]
  },
  {
   "cell_type": "code",
   "execution_count": 23,
   "metadata": {},
   "outputs": [],
   "source": [
    "#infervec (cos) ['都道府県']と['keyword']の類似度\n",
    "def search_events_doc2vec3(keywords,events):\n",
    "    e1 = Event_doc2vec('keywords',[],0.0,keywords,[])\n",
    "    if len(e1.tags) == 0:\n",
    "        raise NameError('Tag is empty')\n",
    "    x = model_doc.infer_vector(e1.tags)\n",
    "    sims = [( i,cos_sim(x,model_doc.infer_vector([i]))) for i in keyword_list]\n",
    "    return sorted(sims,key=lambda x:x[1], reverse=True)[:10]"
   ]
  },
  {
   "cell_type": "code",
   "execution_count": 24,
   "metadata": {},
   "outputs": [],
   "source": [
    "#infervec (cos) ['都道府県']のtextと['keyword']の類似度\n",
    "def search_events_doc2vec4(keywords,events):\n",
    "    e1 = Event_doc2vec('keywords',[],0.0,keywords,[])\n",
    "    if len(e1.tags) == 0:\n",
    "        raise NameError('Tag is empty')\n",
    "    x = model_doc.infer_vector(e1.tags)\n",
    "    sims = [( i,cos_sim(x,model_doc.infer_vector(events[i].tags))) for i in keyword_list]\n",
    "    return sorted(sims,key=lambda x:x[1], reverse=True)[:10]"
   ]
  },
  {
   "cell_type": "code",
   "execution_count": 25,
   "metadata": {},
   "outputs": [
    {
     "data": {
      "text/plain": [
       "[('広島県', 0.3004176),\n",
       " ('奈良県', 0.2991788),\n",
       " ('福井県', 0.27795634),\n",
       " ('岩手県', 0.27440834),\n",
       " ('熊本県', 0.27186087),\n",
       " ('佐賀県', 0.2528845),\n",
       " ('京都府', 0.24311915),\n",
       " ('静岡県', 0.24035113),\n",
       " ('大阪府', 0.2392287),\n",
       " ('沖縄県', 0.23765428)]"
      ]
     },
     "execution_count": 25,
     "metadata": {},
     "output_type": "execute_result"
    }
   ],
   "source": [
    "#['都道府県']と['keyword']の類似度\n",
    "search_events_doc2vec1('日本三景のひとつに数えられる「宮島」。島内の「嚴島（いつくしま）神社」や「弥山（みせん）原始林」などは、世界文化遺産に登録されています。自然あふれる宮島には野生動物も多く住み、ニホンジカやタヌキ、野鳥などが。また、グルメも宮島観光ではずせません。名物・もみじ饅頭はもちろん、宮島二大グルメの牡蠣とあなごは必食！',events_doc2vec)"
   ]
  },
  {
   "cell_type": "code",
   "execution_count": 26,
   "metadata": {},
   "outputs": [
    {
     "data": {
      "text/plain": [
       "[('鳥取県', 0.42152783),\n",
       " ('愛媛県', 0.41951495),\n",
       " ('岡山県', 0.4191045),\n",
       " ('鹿児島県', 0.41488937),\n",
       " ('広島県', 0.41213086),\n",
       " ('高知県', 0.39465415),\n",
       " ('福井県', 0.39428535),\n",
       " ('佐賀県', 0.38680696),\n",
       " ('山形県', 0.3805033),\n",
       " ('福島県', 0.3745277)]"
      ]
     },
     "execution_count": 26,
     "metadata": {},
     "output_type": "execute_result"
    }
   ],
   "source": [
    "#['都道府県']と['keyword']の類似度\n",
    "search_events_doc2vec1('宮島',events_doc2vec)"
   ]
  },
  {
   "cell_type": "code",
   "execution_count": 27,
   "metadata": {},
   "outputs": [
    {
     "data": {
      "text/plain": [
       "[('長野県', 0.43155193),\n",
       " ('大阪府', 0.3767528),\n",
       " ('佐賀県', 0.35278967),\n",
       " ('三重県', 0.31480435),\n",
       " ('埼玉県', 0.31451747),\n",
       " ('徳島県', 0.3016706),\n",
       " ('山口県', 0.29994947),\n",
       " ('高知県', 0.29988006),\n",
       " ('香川県', 0.29928073),\n",
       " ('秋田県', 0.29859316)]"
      ]
     },
     "execution_count": 27,
     "metadata": {},
     "output_type": "execute_result"
    }
   ],
   "source": [
    "search_events_doc2vec1('一番高い山',events_doc2vec)"
   ]
  },
  {
   "cell_type": "code",
   "execution_count": 28,
   "metadata": {},
   "outputs": [
    {
     "data": {
      "text/plain": [
       "[('島根県', 0.33329484),\n",
       " ('愛媛県', 0.3332015),\n",
       " ('広島県', 0.3054567),\n",
       " ('和歌山県', 0.30362657),\n",
       " ('静岡県', 0.29035488),\n",
       " ('宮崎県', 0.28369102),\n",
       " ('大分県', 0.27330014),\n",
       " ('茨城県', 0.27015796),\n",
       " ('奈良県', 0.26974738),\n",
       " ('山形県', 0.25560072)]"
      ]
     },
     "execution_count": 28,
     "metadata": {},
     "output_type": "execute_result"
    }
   ],
   "source": [
    "#['都道府県']のtextと['keyword']の類似度\n",
    "search_events_doc2vec2('日本三景のひとつに数えられる「宮島」。島内の「嚴島（いつくしま）神社」や「弥山（みせん）原始林」などは、世界文化遺産に登録されています。自然あふれる宮島には野生動物も多く住み、ニホンジカやタヌキ、野鳥などが。また、グルメも宮島観光ではずせません。名物・もみじ饅頭はもちろん、宮島二大グルメの牡蠣とあなごは必食！',events_doc2vec)"
   ]
  },
  {
   "cell_type": "code",
   "execution_count": 29,
   "metadata": {},
   "outputs": [
    {
     "data": {
      "text/plain": [
       "[('広島県', 0.26500547),\n",
       " ('鳥取県', 0.26070568),\n",
       " ('千葉県', 0.25379583),\n",
       " ('愛媛県', 0.24513507),\n",
       " ('秋田県', 0.24155419),\n",
       " ('山口県', 0.23970139),\n",
       " ('新潟県', 0.23737882),\n",
       " ('佐賀県', 0.21947294),\n",
       " ('宮崎県', 0.2141827),\n",
       " ('徳島県', 0.21369517)]"
      ]
     },
     "execution_count": 29,
     "metadata": {},
     "output_type": "execute_result"
    }
   ],
   "source": [
    "#['都道府県']のtextと['keyword']の類似度\n",
    "search_events_doc2vec2('宮島',events_doc2vec)"
   ]
  },
  {
   "cell_type": "code",
   "execution_count": 30,
   "metadata": {},
   "outputs": [
    {
     "data": {
      "text/plain": [
       "[('愛知県', 0.29419804),\n",
       " ('富山県', 0.284406),\n",
       " ('山形県', 0.28104743),\n",
       " ('岩手県', 0.27918416),\n",
       " ('長野県', 0.27660987),\n",
       " ('青森県', 0.2737625),\n",
       " ('島根県', 0.26159284),\n",
       " ('秋田県', 0.25850445),\n",
       " ('奈良県', 0.25741735),\n",
       " ('静岡県', 0.2569649)]"
      ]
     },
     "execution_count": 30,
     "metadata": {},
     "output_type": "execute_result"
    }
   ],
   "source": [
    "search_events_doc2vec2('一番高い山',events_doc2vec)"
   ]
  },
  {
   "cell_type": "code",
   "execution_count": 31,
   "metadata": {
    "scrolled": true
   },
   "outputs": [
    {
     "data": {
      "text/plain": [
       "[('広島県', 0.45418555),\n",
       " ('和歌山県', 0.42783257),\n",
       " ('長崎県', 0.4246859),\n",
       " ('山口県', 0.42035398),\n",
       " ('奈良県', 0.41969222),\n",
       " ('佐賀県', 0.4183242),\n",
       " ('熊本県', 0.4171723),\n",
       " ('沖縄県', 0.41595522),\n",
       " ('愛媛県', 0.41529116),\n",
       " ('福井県', 0.41435584)]"
      ]
     },
     "execution_count": 31,
     "metadata": {},
     "output_type": "execute_result"
    }
   ],
   "source": [
    "#infer_vector (cos) ['都道府県']と['keyword']の類似度\n",
    "search_events_doc2vec3('日本三景のひとつに数えられる「宮島」。島内の「嚴島（いつくしま）神社」や「弥山（みせん）原始林」などは、世界文化遺産に登録されています。自然あふれる宮島には野生動物も多く住み、ニホンジカやタヌキ、野鳥などが。また、グルメも宮島観光ではずせません。名物・もみじ饅頭はもちろん、宮島二大グルメの牡蠣とあなごは必食！',events_doc2vec)"
   ]
  },
  {
   "cell_type": "code",
   "execution_count": 32,
   "metadata": {},
   "outputs": [
    {
     "data": {
      "text/plain": [
       "[('広島県', 0.7393561),\n",
       " ('山口県', 0.72904325),\n",
       " ('福岡県', 0.70890516),\n",
       " ('愛媛県', 0.7084612),\n",
       " ('北海道', 0.70374954),\n",
       " ('島根県', 0.70323914),\n",
       " ('高知県', 0.69154096),\n",
       " ('香川県', 0.69091076),\n",
       " ('福井県', 0.690134),\n",
       " ('兵庫県', 0.6893928)]"
      ]
     },
     "execution_count": 32,
     "metadata": {},
     "output_type": "execute_result"
    }
   ],
   "source": [
    "#infer_vector (cos) ['都道府県']と['keyword']の類似度\n",
    "search_events_doc2vec3('宮島',events_doc2vec)"
   ]
  },
  {
   "cell_type": "code",
   "execution_count": 33,
   "metadata": {},
   "outputs": [
    {
     "data": {
      "text/plain": [
       "[('秋田県', 0.61598533),\n",
       " ('長野県', 0.612996),\n",
       " ('山梨県', 0.60960037),\n",
       " ('東京都', 0.60602474),\n",
       " ('青森県', 0.6057484),\n",
       " ('富山県', 0.6040267),\n",
       " ('福岡県', 0.6027289),\n",
       " ('愛媛県', 0.60176086),\n",
       " ('高知県', 0.59976226),\n",
       " ('福井県', 0.59923124)]"
      ]
     },
     "execution_count": 33,
     "metadata": {},
     "output_type": "execute_result"
    }
   ],
   "source": [
    "search_events_doc2vec3('一番高い山',events_doc2vec)"
   ]
  },
  {
   "cell_type": "code",
   "execution_count": 34,
   "metadata": {},
   "outputs": [
    {
     "data": {
      "text/plain": [
       "[('岡山県', 0.35948125),\n",
       " ('佐賀県', 0.351585),\n",
       " ('和歌山県', 0.3490944),\n",
       " ('滋賀県', 0.3468756),\n",
       " ('大分県', 0.34040153),\n",
       " ('石川県', 0.33925065),\n",
       " ('広島県', 0.33568233),\n",
       " ('富山県', 0.33259422),\n",
       " ('栃木県', 0.3265802),\n",
       " ('愛媛県', 0.32468748)]"
      ]
     },
     "execution_count": 34,
     "metadata": {},
     "output_type": "execute_result"
    }
   ],
   "source": [
    "#infervec (cos) ['都道府県']のtextと['keyword']の類似度\n",
    "search_events_doc2vec4('日本三景のひとつに数えられる「宮島」。島内の「嚴島（いつくしま）神社」や「弥山（みせん）原始林」などは、世界文化遺産に登録されています。自然あふれる宮島には野生動物も多く住み、ニホンジカやタヌキ、野鳥などが。また、グルメも宮島観光ではずせません。名物・もみじ饅頭はもちろん、宮島二大グルメの牡蠣とあなごは必食！',events_doc2vec)"
   ]
  },
  {
   "cell_type": "code",
   "execution_count": 35,
   "metadata": {},
   "outputs": [
    {
     "data": {
      "text/plain": [
       "[('山口県', 0.33176288),\n",
       " ('島根県', 0.31834087),\n",
       " ('埼玉県', 0.30978042),\n",
       " ('佐賀県', 0.30930087),\n",
       " ('高知県', 0.30860493),\n",
       " ('岡山県', 0.3081013),\n",
       " ('香川県', 0.3014824),\n",
       " ('愛媛県', 0.29913205),\n",
       " ('鹿児島県', 0.29097316),\n",
       " ('石川県', 0.29003516)]"
      ]
     },
     "execution_count": 35,
     "metadata": {},
     "output_type": "execute_result"
    }
   ],
   "source": [
    "#infervec (cos) ['都道府県']のtextと['keyword']の類似度\n",
    "search_events_doc2vec4('宮島',events_doc2vec)"
   ]
  },
  {
   "cell_type": "code",
   "execution_count": 36,
   "metadata": {},
   "outputs": [
    {
     "data": {
      "text/plain": [
       "[('富山県', 0.39477015),\n",
       " ('千葉県', 0.38799438),\n",
       " ('佐賀県', 0.37810257),\n",
       " ('神奈川県', 0.37564507),\n",
       " ('福井県', 0.370023),\n",
       " ('石川県', 0.3672947),\n",
       " ('徳島県', 0.3639512),\n",
       " ('岩手県', 0.36338654),\n",
       " ('宮城県', 0.3601965),\n",
       " ('滋賀県', 0.35897794)]"
      ]
     },
     "execution_count": 36,
     "metadata": {},
     "output_type": "execute_result"
    }
   ],
   "source": [
    "search_events_doc2vec4('一番高い山',events_doc2vec)"
   ]
  },
  {
   "cell_type": "code",
   "execution_count": 37,
   "metadata": {},
   "outputs": [
    {
     "data": {
      "text/plain": [
       "[('和歌山県', 0.6625362661926),\n",
       " ('滋賀県', 0.6384805626941877),\n",
       " ('富山県', 0.6365973880096233),\n",
       " ('千葉県', 0.6275615161139338),\n",
       " ('徳島県', 0.6185360168780255),\n",
       " ('大分県', 0.6094136208244431),\n",
       " ('三重県', 0.6074473137493471),\n",
       " ('長崎県', 0.6054228518955489),\n",
       " ('佐賀県', 0.6050011516160212),\n",
       " ('広島県', 0.604978857795083)]"
      ]
     },
     "execution_count": 37,
     "metadata": {},
     "output_type": "execute_result"
    }
   ],
   "source": [
    "search_events_cos('日本三景のひとつに数えられる「宮島」。島内の「嚴島（いつくしま）神社」や「弥山（みせん）原始林」などは、世界文化遺産に登録されています。自然あふれる宮島には野生動物も多く住み、ニホンジカやタヌキ、野鳥などが。また、グルメも宮島観光ではずせません。名物・もみじ饅頭はもちろん、宮島二大グルメの牡蠣とあなごは必食！', events)"
   ]
  },
  {
   "cell_type": "code",
   "execution_count": 38,
   "metadata": {},
   "outputs": [
    {
     "data": {
      "text/plain": [
       "[('山口県', 0.17801671634528),\n",
       " ('広島県', 0.17339790827880117),\n",
       " ('長崎県', 0.1596039125914673),\n",
       " ('岡山県', 0.13760575044586265),\n",
       " ('鹿児島県', 0.13069186990779363),\n",
       " ('愛媛県', 0.12977148415195566),\n",
       " ('静岡県', 0.12456848175477066),\n",
       " ('鳥取県', 0.12400480629610346),\n",
       " ('大阪府', 0.12141749128669643),\n",
       " ('福岡県', 0.12113238479900283)]"
      ]
     },
     "execution_count": 38,
     "metadata": {},
     "output_type": "execute_result"
    }
   ],
   "source": [
    "search_events_cos('宮島', events)"
   ]
  },
  {
   "cell_type": "code",
   "execution_count": 39,
   "metadata": {},
   "outputs": [
    {
     "data": {
      "text/plain": [
       "[('和歌山県', 0.41345843562792367),\n",
       " ('富山県', 0.41082443641320565),\n",
       " ('千葉県', 0.4090893228687678),\n",
       " ('徳島県', 0.39250397876911547),\n",
       " ('岐阜県', 0.3902327698777083),\n",
       " ('山形県', 0.37756768649636624),\n",
       " ('福井県', 0.3721740668908316),\n",
       " ('島根県', 0.36511619789388716),\n",
       " ('大分県', 0.3633764174100329),\n",
       " ('鳥取県', 0.36148247674260203)]"
      ]
     },
     "execution_count": 39,
     "metadata": {},
     "output_type": "execute_result"
    }
   ],
   "source": [
    "search_events_cos('一番高い山', events)"
   ]
  },
  {
   "cell_type": "code",
   "execution_count": 40,
   "metadata": {},
   "outputs": [
    {
     "data": {
      "text/plain": [
       "[('福井県', 0.29387607637223695),\n",
       " ('徳島県', 0.27905677831421666),\n",
       " ('島根県', 0.2770464837074377),\n",
       " ('大分県', 0.2768608318340613),\n",
       " ('和歌山県', 0.26589784561508284),\n",
       " ('京都府', 0.2597812076308172),\n",
       " ('熊本県', 0.24992878981520464),\n",
       " ('兵庫県', 0.2456875646219469),\n",
       " ('富山県', 0.24397605846322673),\n",
       " ('鳥取県', 0.24378214607321527)]"
      ]
     },
     "execution_count": 40,
     "metadata": {},
     "output_type": "execute_result"
    }
   ],
   "source": [
    "search_events_cca('日本三景のひとつに数えられる「宮島」。島内の「嚴島（いつくしま）神社」や「弥山（みせん）原始林」などは、世界文化遺産に登録されています。自然あふれる宮島には野生動物も多く住み、ニホンジカやタヌキ、野鳥などが。また、グルメも宮島観光ではずせません。名物・もみじ饅頭はもちろん、宮島二大グルメの牡蠣とあなごは必食！', events)"
   ]
  },
  {
   "cell_type": "code",
   "execution_count": 41,
   "metadata": {},
   "outputs": [
    {
     "data": {
      "text/plain": [
       "[('広島県', 0.017622940166339172),\n",
       " ('島根県', 0.016369166470055797),\n",
       " ('兵庫県', 0.015361581564497457),\n",
       " ('山口県', 0.014742884934517465),\n",
       " ('鳥取県', 0.013924698244082524),\n",
       " ('大分県', 0.013370777288423903),\n",
       " ('徳島県', 0.01309388875403509),\n",
       " ('長崎県', 0.012475851523800523),\n",
       " ('和歌山県', 0.012336500513183087),\n",
       " ('愛媛県', 0.01219502796819896)]"
      ]
     },
     "execution_count": 41,
     "metadata": {},
     "output_type": "execute_result"
    }
   ],
   "source": [
    "search_events_cca('宮島', events)"
   ]
  },
  {
   "cell_type": "code",
   "execution_count": 42,
   "metadata": {},
   "outputs": [
    {
     "data": {
      "text/plain": [
       "[('徳島県', 0.0506519647024501),\n",
       " ('和歌山県', 0.04879440063632084),\n",
       " ('福井県', 0.048698571038100824),\n",
       " ('京都府', 0.048231774996724014),\n",
       " ('島根県', 0.04763214667617136),\n",
       " ('大分県', 0.04688616156708705),\n",
       " ('兵庫県', 0.046231064655996953),\n",
       " ('富山県', 0.043206224215651616),\n",
       " ('鳥取県', 0.04317604191696974),\n",
       " ('熊本県', 0.042523878773224645)]"
      ]
     },
     "execution_count": 42,
     "metadata": {},
     "output_type": "execute_result"
    }
   ],
   "source": [
    "search_events_cca('一番高い山', events)"
   ]
  },
  {
   "cell_type": "code",
   "execution_count": 43,
   "metadata": {},
   "outputs": [
    {
     "data": {
      "text/plain": [
       "[('フットサル', 0.7777404189109802),\n",
       " ('フットボール', 0.7727267146110535),\n",
       " ('少年サッカー', 0.7433319091796875),\n",
       " ('女子サッカー', 0.7351254224777222),\n",
       " ('高校サッカー', 0.726090669631958),\n",
       " ('サッカーチーム', 0.7176849842071533),\n",
       " ('バレーボール', 0.7045983076095581),\n",
       " ('ゴールキーパー', 0.6908824443817139),\n",
       " ('Jリーガー', 0.685981273651123),\n",
       " ('日本サッカー協会', 0.6841729879379272)]"
      ]
     },
     "execution_count": 43,
     "metadata": {},
     "output_type": "execute_result"
    }
   ],
   "source": [
    "model_doc.wv.most_similar('サッカー')"
   ]
  },
  {
   "cell_type": "code",
   "execution_count": 44,
   "metadata": {},
   "outputs": [
    {
     "data": {
      "text/plain": [
       "[('フットサル', 0.6827920079231262),\n",
       " ('日本サッカー協会', 0.6688693761825562),\n",
       " ('世界のサッカー', 0.6633233428001404),\n",
       " ('後藤健生', 0.6591907739639282),\n",
       " ('少年サッカー', 0.6590936779975891),\n",
       " ('サッカーチーム', 0.6562634706497192),\n",
       " ('フットボール', 0.6452617049217224),\n",
       " ('サッカー審判員', 0.6445564031600952),\n",
       " ('デットマール・クラマー', 0.643462061882019),\n",
       " ('ゴールキーパー', 0.6402513980865479)]"
      ]
     },
     "execution_count": 44,
     "metadata": {},
     "output_type": "execute_result"
    }
   ],
   "source": [
    "model.wv.most_similar('サッカー')"
   ]
  },
  {
   "cell_type": "code",
   "execution_count": 45,
   "metadata": {},
   "outputs": [
    {
     "data": {
      "text/plain": [
       "0.18747123"
      ]
     },
     "execution_count": 45,
     "metadata": {},
     "output_type": "execute_result"
    }
   ],
   "source": [
    "model_doc.docvecs.similarity('サッカー','東京')"
   ]
  },
  {
   "cell_type": "code",
   "execution_count": 46,
   "metadata": {},
   "outputs": [
    {
     "data": {
      "text/plain": [
       "0.4418633"
      ]
     },
     "execution_count": 46,
     "metadata": {},
     "output_type": "execute_result"
    }
   ],
   "source": [
    "model_doc.docvecs.similarity_unseen_docs(model_doc, ['サッカー'], ['東京'], alpha=1, min_alpha=0.0001, steps=5)"
   ]
  },
  {
   "cell_type": "code",
   "execution_count": null,
   "metadata": {},
   "outputs": [],
   "source": []
  }
 ],
 "metadata": {
  "kernelspec": {
   "display_name": "Python 3",
   "language": "python",
   "name": "python3"
  },
  "language_info": {
   "codemirror_mode": {
    "name": "ipython",
    "version": 3
   },
   "file_extension": ".py",
   "mimetype": "text/x-python",
   "name": "python",
   "nbconvert_exporter": "python",
   "pygments_lexer": "ipython3",
   "version": "3.8.2"
  }
 },
 "nbformat": 4,
 "nbformat_minor": 4
}
