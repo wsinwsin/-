{
 "cells": [
  {
   "cell_type": "code",
   "execution_count": 1,
   "metadata": {},
   "outputs": [],
   "source": [
    "from gensim.models import word2vec\n",
    "import MeCab\n",
    "import numpy as np\n",
    "import json\n",
    "import hashlib\n",
    "from sklearn.cross_decomposition import CCA\n",
    "from googletrans import Translator"
   ]
  },
  {
   "cell_type": "code",
   "execution_count": 2,
   "metadata": {},
   "outputs": [
    {
     "data": {
      "text/plain": [
       "'EOS\\n'"
      ]
     },
     "execution_count": 2,
     "metadata": {},
     "output_type": "execute_result"
    }
   ],
   "source": [
    "translator = Translator()\n",
    "model = word2vec.Word2Vec.load(\"wiki_plus.model\")\n",
    "mt = MeCab.Tagger('-d /usr/local/lib/mecab/dic/mecab-ipadic-neologd/')\n",
    "mt.parse('')"
   ]
  },
  {
   "cell_type": "code",
   "execution_count": 3,
   "metadata": {},
   "outputs": [],
   "source": [
    "from gensim.models.doc2vec import Doc2Vec\n",
    "from gensim.models.doc2vec import TaggedDocument\n",
    "model_doc = Doc2Vec.load(\"jawiki.doc2vec.dbow300d.model\")"
   ]
  },
  {
   "cell_type": "code",
   "execution_count": 4,
   "metadata": {},
   "outputs": [],
   "source": [
    "def get_tags_for_doc2vec(text):\n",
    "    word = []\n",
    "    node = mt.parseToNode(text)\n",
    "    while node:\n",
    "        fields = node.feature.split(\",\")\n",
    "        if node.surface in model_doc.wv:\n",
    "            w = node.surface\n",
    "            word.append(w)\n",
    "        node = node.next\n",
    "    return word"
   ]
  },
  {
   "cell_type": "code",
   "execution_count": 5,
   "metadata": {},
   "outputs": [],
   "source": [
    "def get_tags(text):\n",
    "    word = {}\n",
    "    node = mt.parseToNode(text)\n",
    "    while node:\n",
    "        fields = node.feature.split(\",\")\n",
    "        # 名詞、動詞、形容詞のいずれか、かつ、w2vに登録されている単語だけ\n",
    "        if (fields[0] == '名詞' or fields[0] == '動詞' or fields[0] == '形容詞') and node.surface in model.wv:\n",
    "#        if (fields[0] == '名詞' or fields[0] == '形容詞') and node.surface in model.wv:\n",
    "            w = node.surface\n",
    "            word[w] = word.get(w, 0) + 1\n",
    "        node = node.next\n",
    "    return word"
   ]
  },
  {
   "cell_type": "code",
   "execution_count": 6,
   "metadata": {},
   "outputs": [],
   "source": [
    "class Event:\n",
    "    def __init__(self, id, type, score, desc, links):\n",
    "        self.id = id\n",
    "        self.type = type\n",
    "        self.score = score\n",
    "        self.desc = desc\n",
    "        self.tags = get_tags(desc)\n",
    "        self.links = links\n",
    "    \n",
    "    def __str__(self):\n",
    "        return 'id: {id} type: {type} score: {score} tags: {tags}'.format(id=self.id, type=self.type, score=self.score, tags=str(self.tags))\n",
    "\n",
    "    def __repr__(self):\n",
    "        return 'id: {id} type: {type} score: {score} tags: {tags}'.format(id=self.id, type=self.type, score=self.score, tags=str(self.tags))"
   ]
  },
  {
   "cell_type": "code",
   "execution_count": 7,
   "metadata": {},
   "outputs": [],
   "source": [
    "class Event_doc2vec(Event):\n",
    "    def __init__(self, id, type, score, desc, links):\n",
    "        super().__init__(id,type,score,desc,links)\n",
    "        self.tags = get_tags_for_doc2vec(desc)"
   ]
  },
  {
   "cell_type": "code",
   "execution_count": 8,
   "metadata": {},
   "outputs": [],
   "source": [
    "# JSON ファイルから event set をロード\n",
    "def load_events(jsonfile):\n",
    "    with open(jsonfile) as f:\n",
    "        df = json.load(f)\n",
    "    events = {x['id']: Event(x['id'], x['type'], x['score'], x['desc'], x['links']) for x in df} #eventsにidをkeyとしそのオブジェクトをvalueとした辞書を生成\n",
    "    for k,x in events.items():\n",
    "        x.links = [events[e] for e in x.links] #Event.linkの中身をidの配列からEventの配列に変更\n",
    "    return events"
   ]
  },
  {
   "cell_type": "code",
   "execution_count": 9,
   "metadata": {},
   "outputs": [],
   "source": [
    "# JSON ファイルから event set をロード ver.doc2vec\n",
    "def load_events_for_doc2vec(jsonfile):\n",
    "    with open(jsonfile) as f:\n",
    "        df = json.load(f)\n",
    "    events = {x['id']: Event_doc2vec(x['id'], x['type'], x['score'], x['desc'], x['links']) for x in df} #eventsにidをkeyとしそのオブジェクトをvalueとした辞書を生成\n",
    "    for k,x in events.items():\n",
    "        x.links = [events[e] for e in x.links] #Event.linkの中身をidの配列からEventの配列に変更\n",
    "    return events"
   ]
  },
  {
   "cell_type": "code",
   "execution_count": 10,
   "metadata": {},
   "outputs": [],
   "source": [
    "events = load_events('sesaku2.json')\n",
    "events_doc2vec = load_events_for_doc2vec('sesaku2.json')"
   ]
  },
  {
   "cell_type": "markdown",
   "metadata": {},
   "source": [
    "# 類似度"
   ]
  },
  {
   "cell_type": "code",
   "execution_count": 11,
   "metadata": {},
   "outputs": [],
   "source": [
    "# cos similality\n",
    "def cos_sim(v1, v2):\n",
    "    return np.dot(v1, v2) / (np.linalg.norm(v1) * np.linalg.norm(v2)) #ベクトルの積/（ベクトルの大きさ＊ベクトルの大きさ）\n",
    "\n",
    "# doc vec with weighted mean\n",
    "def weighted_mean_vec(e):\n",
    "    v = np.zeros(model.vector_size)\n",
    "    s = 1.0\n",
    "    for w,weight in e.tags.items():\n",
    "        v += weight * model.wv[w]  #Eventクラスeの単語wの個数＊単語wのベクトル\n",
    "        s += weight\n",
    "    return v / s\n",
    "\n",
    "# doc間のsimilality (weighted mean_vec and cos_sim)\n",
    "def event_sim_cos(e1, e2):\n",
    "    return cos_sim(weighted_mean_vec(e1), weighted_mean_vec(e2))"
   ]
  },
  {
   "cell_type": "code",
   "execution_count": 12,
   "metadata": {},
   "outputs": [],
   "source": [
    "# CCAの相関係数によるsimilality\n",
    "def get_vectors(e1):\n",
    "    return np.array([model.wv[w] for w,weight in e1.tags.items()]) # Eventクラスeの単語それぞれのベクトルを要素とする配列\n",
    "def event_sim_cca(e1, e2):\n",
    "    x1 = get_vectors(e1)\n",
    "    x2 = get_vectors(e2)\n",
    "    n = min(x1.shape[0], x2.shape[0])\n",
    "    assert(n >= 1)\n",
    "    cca = CCA(n_components=n)\n",
    "    cca.fit(x1.transpose(), x2.transpose())\n",
    "    return cca.score(x1.transpose(), x2.transpose())"
   ]
  },
  {
   "cell_type": "code",
   "execution_count": 13,
   "metadata": {},
   "outputs": [],
   "source": [
    "def tokenize(text):\n",
    "    return mt.parse(text).strip().split()"
   ]
  },
  {
   "cell_type": "code",
   "execution_count": 14,
   "metadata": {},
   "outputs": [],
   "source": [
    "#eventsはidをkeyそのidに対するeventをvalueとした辞書\n",
    "def search_events_cos(keywords, events):\n",
    "    e1 = Event('keywords', [], 0.0, keywords, []) #Event(id, type, score, desc, links)\n",
    "    if len(e1.tags) == 0:\n",
    "        raise NameError('Tag is empty')\n",
    "    sims = [(x.desc, event_sim_cos(e1, x)) for k,x in events.items() if len(x.tags) >= 1]\n",
    "    return sorted(sims, key=lambda x:x[1], reverse=True)[:10]\n",
    "\n",
    "def search_events_cca(keywords, events):\n",
    "    e1 = Event('keywords', [], 0.0, keywords, [])\n",
    "    if len(e1.tags) == 0:\n",
    "        raise NameError('Tag is empty')\n",
    "    sims = [(x.desc, event_sim_cca(e1, x)) for k,x in events.items() if len(x.tags) >= 1]\n",
    "    return sorted(sims, key=lambda x:x[1], reverse=True)[:10]"
   ]
  },
  {
   "cell_type": "code",
   "execution_count": 15,
   "metadata": {},
   "outputs": [],
   "source": [
    "#['都道府県']と['keyword']の類似度\n",
    "def search_events_doc2vec1(keywords,events):\n",
    "    e1 = Event_doc2vec('keywords',[],0.0,keywords,[])\n",
    "    if len(e1.tags) == 0:\n",
    "        raise NameError('Tag is empty')\n",
    "    sims = [( x.desc, model_doc.docvecs.similarity_unseen_docs(model_doc, [x.id], e1.tags, alpha=1, min_alpha=0.0001, steps=5)) for k,x in events.items() if len (x.tags) >=1]\n",
    "    return sorted(sims,key=lambda x:x[1], reverse=True)[:10]"
   ]
  },
  {
   "cell_type": "code",
   "execution_count": 16,
   "metadata": {},
   "outputs": [],
   "source": [
    "#['都道府県']のtextと['keyword']の類似度\n",
    "def search_events_doc2vec2(keywords,events):\n",
    "    e1 = Event_doc2vec('keywords',[],0.0,keywords,[])\n",
    "    if len(e1.tags) == 0:\n",
    "        raise NameError('Tag is empty')\n",
    "    \n",
    "    sims = [( x.desc, model_doc.docvecs.similarity_unseen_docs(model_doc, x.tags, e1.tags, alpha=1, min_alpha=0.0001, steps=5))  for k,x in events.items() if len (x.tags) >=1]\n",
    "    return sorted(sims,key=lambda x:x[1], reverse=True)[:10]"
   ]
  },
  {
   "cell_type": "code",
   "execution_count": 17,
   "metadata": {},
   "outputs": [],
   "source": [
    "#infervec (cos) ['都道府県']と['keyword']の類似度\n",
    "def search_events_doc2vec3(keywords,events):\n",
    "    e1 = Event_doc2vec('keywords',[],0.0,keywords,[])\n",
    "    if len(e1.tags) == 0:\n",
    "        raise NameError('Tag is empty')\n",
    "    y = model_doc.infer_vector(e1.tags)\n",
    "    sims = [( x.desc,cos_sim(y,model_doc.infer_vector([x.id])))  for k,x in events.items() if len (x.tags) >=1]\n",
    "    return sorted(sims,key=lambda x:x[1], reverse=True)[:10]"
   ]
  },
  {
   "cell_type": "code",
   "execution_count": 18,
   "metadata": {},
   "outputs": [],
   "source": [
    "#infervec (cos) ['都道府県']のtextと['keyword']の類似度\n",
    "def search_events_doc2vec4(keywords,events):\n",
    "    e1 = Event_doc2vec('keywords',[],0.0,keywords,[])\n",
    "    if len(e1.tags) == 0:\n",
    "        raise NameError('Tag is empty')\n",
    "    y = model_doc.infer_vector(e1.tags)\n",
    "    sims = [( x.desc,cos_sim(y,model_doc.infer_vector(x.tags)))  for k,x in events.items() if len (x.tags) >=1]\n",
    "    return sorted(sims,key=lambda x:x[1], reverse=True)[:10]"
   ]
  },
  {
   "cell_type": "code",
   "execution_count": 19,
   "metadata": {},
   "outputs": [
    {
     "data": {
      "text/plain": [
       "[('ステアリングヨークを選定後トルク変動計算し基準値以内にする', 0.17089543),\n",
       " ('内製EMPSギヤアセンブリの搭載を検討する', 0.15039669),\n",
       " ('原価企画・原価計画・原価維持・原価改善といった視点で、原価管理を実施している。', 0.1482835),\n",
       " ('社内コストテーブルがあり、関連部門と連携しながら原価算出', 0.1431767),\n",
       " ('エンジン本体 オイルフィルター\\u3000キャップアセンブリ', 0.13511296),\n",
       " ('エンジン本体 ラジエターキャップ\\u3000アセンブリ', 0.13368987),\n",
       " ('足踏みパーキングとPバルブの軽量化検討', 0.1329244),\n",
       " ('組立性、メンテ性の課題項目出し', 0.13139021),\n",
       " ('必要人員と配置人員の関係を見える化', 0.13099784),\n",
       " ('社内標準は体系的に整備、定期的な見直しがされている', 0.12380567)]"
      ]
     },
     "execution_count": 19,
     "metadata": {},
     "output_type": "execute_result"
    }
   ],
   "source": [
    "search_events_doc2vec1('エンジン',events_doc2vec)"
   ]
  },
  {
   "cell_type": "code",
   "execution_count": 20,
   "metadata": {},
   "outputs": [
    {
     "data": {
      "text/plain": [
       "[('エンジン搭載 ゴム\\u3000クッション', 0.64897096),\n",
       " ('エンジン本体 燃料蒸気供給パイプ', 0.6162985),\n",
       " ('エンジン搭載 ラジエターキャップ', 0.6135371),\n",
       " ('エンジン本体 吸気マニホールド\\u3000ガスケット', 0.604617),\n",
       " ('エンジン本体 ファンプーリー', 0.60384923),\n",
       " ('エンジン本体 オイルレベルゲージ', 0.5946971),\n",
       " ('エンジン搭載 アイドラープーリ', 0.5925279),\n",
       " ('エンジン本体 クランクシャフトベアリング', 0.5843426),\n",
       " ('エンジン搭載 燃料ポンプ 抵抗器アセンブリ', 0.57747936),\n",
       " ('エンジン本体 燃料蒸気供給ホース', 0.5763741)]"
      ]
     },
     "execution_count": 20,
     "metadata": {},
     "output_type": "execute_result"
    }
   ],
   "source": [
    "search_events_doc2vec2('エンジン',events_doc2vec)"
   ]
  },
  {
   "cell_type": "code",
   "execution_count": 21,
   "metadata": {},
   "outputs": [
    {
     "data": {
      "text/plain": [
       "[('エンジン本体 燃料インジェクター', 0.14703085),\n",
       " ('足踏みパーキングとPバルブの軽量化検討', 0.14143185),\n",
       " ('エンジン搭載 フライホイール', 0.13866842),\n",
       " ('システムズ・エンジニアリングを導入してモデルベース開発を実施', 0.13755569),\n",
       " ('エンジン本体 ウォーターバイパス\\u3000ホース', 0.13534153),\n",
       " ('必要人員と配置人員の関係を見える化', 0.13509117),\n",
       " ('PSギヤ支持率は、操舵安定性部門と確認', 0.13126369),\n",
       " ('エンジン本体 クランクシャフト', 0.12759389),\n",
       " ('油圧ラインレイアウト', 0.12564377),\n",
       " ('最新製品を使う場合、搭載性と干渉の寸法確認', 0.12524386)]"
      ]
     },
     "execution_count": 21,
     "metadata": {},
     "output_type": "execute_result"
    }
   ],
   "source": [
    "search_events_doc2vec3('エンジン',events_doc2vec)"
   ]
  },
  {
   "cell_type": "code",
   "execution_count": 22,
   "metadata": {},
   "outputs": [
    {
     "data": {
      "text/plain": [
       "[('エンジン搭載 アイドラープーリ', 0.9415362),\n",
       " ('エンジン本体 バルブスプリングシート', 0.9386966),\n",
       " ('エンジン本体 ウォーターアウトレットパイプ', 0.9372415),\n",
       " ('エンジン本体 ワッシャープレート', 0.93630713),\n",
       " ('エンジン本体 シリンダーヘッドサブアセンブリ', 0.9362935),\n",
       " ('エンジン本体 エアサージタンクガスケット', 0.93626267),\n",
       " ('エンジン本体 ウォーターインレット', 0.9352318),\n",
       " ('エンジン本体 ワッシャーボルト', 0.9341545),\n",
       " ('エンジン本体 バキュームスイッチングバルブ', 0.9340271),\n",
       " ('エンジン本体 カムシャフトサブアセンブリ', 0.9338576)]"
      ]
     },
     "execution_count": 22,
     "metadata": {},
     "output_type": "execute_result"
    }
   ],
   "source": [
    "search_events_doc2vec4('エンジン',events_doc2vec)"
   ]
  },
  {
   "cell_type": "code",
   "execution_count": 23,
   "metadata": {},
   "outputs": [
    {
     "data": {
      "text/plain": [
       "[('エンジン本体 カバーサブアセンブリ、エンジン', 0.9138092408021387),\n",
       " ('エンジン本体 エンジンマウント\\u3000ブラケット', 0.8158224288512752),\n",
       " ('エンジン本体 シリンダーブロック', 0.7885445241380861),\n",
       " ('エンジン本体 シリンダーブロック\\u3000サブアッシー', 0.7885445241380861),\n",
       " ('エンジン本体 燃料フィレットバルブ\\u3000アッシー', 0.7871171653986341),\n",
       " ('エンジン本体 燃料インジェクター', 0.7838387747005583),\n",
       " ('エンジン本体 燃料インジェクタ', 0.7834878029477366),\n",
       " ('エンジン本体 スパークプラグ', 0.7834251553887912),\n",
       " ('エンジン本体 燃料フィレットバルブアセンブリ', 0.783119937549118),\n",
       " ('エンジン搭載 インレット\\u3000エアクリーナー', 0.7776428586092169)]"
      ]
     },
     "execution_count": 23,
     "metadata": {},
     "output_type": "execute_result"
    }
   ],
   "source": [
    "search_events_cos('エンジン', events)"
   ]
  },
  {
   "cell_type": "code",
   "execution_count": 24,
   "metadata": {},
   "outputs": [
    {
     "data": {
      "text/plain": [
       "[('エンジン搭載 アイドラープーリ', 0.5947456051612782),\n",
       " ('エンジン本体 シリンダーヘッドサブアセンブリ', 0.5142887949212165),\n",
       " ('エンジン本体 オイルレベルゲージ', 0.5142887949212165),\n",
       " ('エンジン本体 カバーサブアセンブリ、エンジン', 0.5142887949212165),\n",
       " ('エンジン本体 カムシャフトサブアセンブリ', 0.5142887949212165),\n",
       " ('エンジン本体 コンプレッションリング', 0.5142887949212165),\n",
       " ('エンジン本体 チェーンサブアセンブリ', 0.5142887949212165),\n",
       " ('エンジン本体 チェーンバイブレーションダンパー', 0.5142887949212165),\n",
       " ('エンジン本体 アイドルギアシャフト', 0.5142887949212165),\n",
       " ('エンジン本体 バルブスプリングシート', 0.5142887949212165)]"
      ]
     },
     "execution_count": 24,
     "metadata": {},
     "output_type": "execute_result"
    }
   ],
   "source": [
    "search_events_cca('エンジン', events)"
   ]
  },
  {
   "cell_type": "markdown",
   "metadata": {},
   "source": [
    "# トレーニングデータ作り"
   ]
  },
  {
   "cell_type": "code",
   "execution_count": 25,
   "metadata": {},
   "outputs": [
    {
     "name": "stdout",
     "output_type": "stream",
     "text": [
      "['部品'] エンジン搭載 吸気レゾネーター\n",
      "['部品'] エンジン搭載 燃料ポンプ 抵抗器アセンブリ\n",
      "['部品'] エンジン搭載 燃料ポンプ\n",
      "['部品'] エンジン搭載 ゴム　クッション\n",
      "['部品'] エンジン搭載 燃料圧力ダンパー\n",
      "['部品'] エンジン搭載 燃料ポンプ　抵抗カバー\n",
      "['部品'] エンジン搭載 燃料フィルター\n",
      "['部品'] エンジン搭載 燃料パイプ\n",
      "['部品'] エンジン搭載 燃料蒸気供給ホース\n",
      "['部品'] エンジン搭載 燃料ホース　クランプ\n",
      "['部品'] エンジン搭載 燃料ポンプ　絶縁体\n",
      "['部品'] エンジン搭載 エアバッグラベル　DRVRパスに関する注意\n",
      "['部品'] エンジン搭載 パイプ　チャコールキャニスター\n",
      "['部品'] エンジン搭載 ブラケット　チャコールキャニスター\n",
      "['部品'] エンジン搭載 ペダル　アクセラレータ\n",
      "['部品'] エンジン搭載 フレキシブルホース\n",
      "['部品'] エンジン搭載 フライホイール\n",
      "['部品'] エンジン搭載 インレット　エアクリーナー\n",
      "['部品'] エンジン搭載 ファン部品　モータ付き\n",
      "['部品'] エンジン搭載 換気ホース\n",
      "['部品'] エンジン搭載 エンジン取り付け　絶縁部品　\n",
      "['部品'] エンジン搭載 エンジン取り付け　絶縁体\n",
      "['部品'] エンジン搭載 ラジエターキャップ\n",
      "['部品'] エンジン搭載 ラジエター　サポート\n",
      "['部品'] エンジン搭載 ラジエター　ホース\n",
      "['部品'] エンジン搭載 アイドラープーリ\n",
      "['部品'] エンジン搭載 クリップ\n",
      "['部品'] エンジン本体 Vバンクカバー　ブラケットサブアセンブリ\n",
      "['部品'] エンジン本体 シリンダーヘッドサブアセンブリ\n",
      "['部品'] エンジン本体 シリンダーヘッド\n",
      "['部品'] エンジン本体 シリンダーヘッド　ガスケット\n",
      "['部品'] エンジン本体 ブッシュ　バルブガイドインテーク\n",
      "['部品'] エンジン本体 ブッシュ　バルブガイド排気\n",
      "['部品'] エンジン本体 吸気バルブ　シート\n",
      "['部品'] エンジン本体 エキゾーストバルブ\n",
      "['部品'] エンジン本体 カムシャフトベアリング　キャップ\n",
      "['部品'] エンジン本体 セミサーキュレータ　プラグ\n",
      "['部品'] エンジン本体 　Vバンクカバーサブアセンブリ\n",
      "['部品'] エンジン本体 シリンダーヘッド　カバー\n",
      "['部品'] エンジン本体 シリンダーヘッドカバー　ガスケット\n",
      "['部品'] エンジン本体 タイミングチェーン　カバー\n",
      "['部品'] エンジン本体 リテーナー、オイルシール\n",
      "['部品'] エンジン本体 シリンダーブロック　サブアセンブリ\n",
      "['部品'] エンジン本体 シリンダーブロック\n",
      "['部品'] エンジン本体 オイルレベルゲージ\n",
      "['部品'] エンジン本体 シリンダー　ライナー\n",
      "['部品'] エンジン本体 クランクシャフトベアリング　キャップ\n",
      "['部品'] エンジン本体 クランクシャフトベアリング\n",
      "['部品'] エンジン本体 クランクシャフト　スラストワッシャー\n",
      "['部品'] エンジン本体 カムシャフト　ベアリング\n",
      "['部品'] エンジン本体 オイルパン　サブアセンブリ\n",
      "['部品'] エンジン本体 オイルパン\n",
      "['部品'] エンジン本体 オイルパン　バッフルプレート\n",
      "['部品'] エンジン本体 オイルフィルター　キャップアセンブリ\n",
      "['部品'] エンジン本体 バルブサブアセンブリ、換気\n",
      "['部品'] エンジン本体 ホース、換気\n",
      "['部品'] エンジン本体 カバーサブアセンブリ、エンジン\n",
      "['部品'] エンジン本体 ギアアセンブリ、カムシャフトタイミング\n",
      "['部品'] エンジン本体 カムシャフトサブアセンブリ\n",
      "['部品'] エンジン本体 コンプレッションリング\n",
      "['部品'] エンジン本体 接続ロッド　サブアセンブリ\n",
      "['部品'] エンジン本体 ピストン\n",
      "['部品'] エンジン本体 ピストンピン\n",
      "['部品'] エンジン本体 接続ロッド\n",
      "['部品'] エンジン本体 接続ロッドねじ\n",
      "['部品'] エンジン本体 接続ロッドベアリング\n",
      "['部品'] エンジン本体 クランクシャフト　サブアセンブリ\n",
      "['部品'] エンジン本体 クランクシャフト\n",
      "['部品'] エンジン本体 クランクシャフト　プーリアセンブリ\n",
      "['部品'] エンジン本体 チェーンサブアセンブリ\n",
      "['部品'] エンジン本体 カムシャフト\n",
      "['部品'] エンジン本体 オイルジェット\n",
      "['部品'] エンジン本体 クランクシャフト　タイミングギア\n",
      "['部品'] エンジン本体 カムシャフトタイミング　スプロケット\n",
      "['部品'] エンジン本体 アイドルギア\n",
      "['部品'] エンジン本体 チェーンテンショナー　アセンブリ\n",
      "['部品'] エンジン本体 チェーンテンショナー　スリッパー\n",
      "['部品'] エンジン本体 チェーンバイブレーションダンパー\n",
      "['部品'] エンジン本体 アイドルギアシャフト\n",
      "['部品'] エンジン本体 吸気バルブ\n",
      "['部品'] エンジン本体 排気バルブ\n",
      "['部品'] エンジン本体 バルブスプリングシート\n",
      "['部品'] エンジン本体 バルブスプリング　リテーナー\n",
      "['部品'] エンジン本体 バルブリフター\n",
      "['部品'] エンジン本体 オイルストレーナー　サブアセンブリ\n",
      "['部品'] エンジン本体 オイルレベルゲージ　サブアセンブリ\n",
      "['部品'] エンジン本体 CAMタイミング　オイルコントロールバルブ　アセンブリ\n",
      "['部品'] エンジン本体 オイルコントロールバルブ　ブラケット\n",
      "['部品'] エンジン本体 ユニオンボルト\n",
      "['部品'] エンジン本体 オイルフィルター　ブラケット\n",
      "['部品'] エンジン本体 オイルコントロールバルブ　フィルター\n",
      "['部品'] エンジン本体 ウォーターバイパス　ホース\n",
      "['部品'] エンジン本体 ウォーターアウトレット　サブアセンブリ\n",
      "['部品'] エンジン本体 ウォーターインレット\n",
      "['部品'] エンジン本体 ウォーターアウトレットパイプ\n",
      "['部品'] エンジン本体 ウォーターアウトレット　ガスケット\n",
      "['部品'] エンジン本体 ウォーターバイパス　ジョイント\n",
      "['部品'] エンジン本体 ファンプーリ\n",
      "['部品'] エンジン本体 ラジエターキャップ\n",
      "['部品'] エンジン本体 ラジエターキャップ　アセンブリ\n",
      "['部品'] エンジン本体 クリーナーアセンブリ、エアW /エレメント\n",
      "['部品'] エンジン本体 Vリブテンショナー　アセンブリ\n",
      "['部品'] エンジン本体 ウォータージャケット　スペーサー\n",
      "['部品'] エンジン本体 マニホールドステー\n",
      "['部品'] エンジン本体 排気マニホールドステー\n",
      "['部品'] エンジン本体 インテークマニホールド　アセンブリ\n",
      "['部品'] エンジン本体 サージタンク　ステー\n",
      "['部品'] エンジン本体 サージタンクカバー　ガスケット\n",
      "['部品'] エンジン本体 排気マニホールドアセンブリ\n",
      "['部品'] エンジン本体 排気マニホールドヘッド　ガスケット\n",
      "['部品'] エンジン本体 エアサージタンクガスケット\n",
      "['部品'] エンジン本体 吸気マニホールド　ガスケット\n",
      "['部品'] エンジン本体 吸気サージタンクアセンブリ\n",
      "['部品'] エンジン本体 吸気制御バルブアセンブリ\n",
      "['部品'] エンジン本体 吸気制御バルブ　アクチュエーター\n",
      "['部品'] エンジン本体 排気パイプ　アセンブリ\n",
      "['部品'] エンジン本体 モノリシックコンバーター　アセンブリ\n",
      "['部品'] エンジン本体 モノリシック触媒シール\n",
      "['部品'] エンジン本体 燃料フィレットバルブアセンブリ\n",
      "['部品'] エンジン本体 スロットルモータ　ボディアセンブリ\n",
      "['部品'] エンジン本体 スロットルボディ　ブラケット\n",
      "['部品'] エンジン本体 スロットルボディ　ガスケット\n",
      "['部品'] エンジン本体 燃料圧力ジェットポンプ　レギュレータアセンブリ\n",
      "['部品'] エンジン本体 燃料インジェクタ\n",
      "['部品'] エンジン本体 燃料フィルターポンプ　アセンブリ\n",
      "['部品'] エンジン本体 燃料ホース\n",
      "['部品'] エンジン本体 燃料供給パイプ\n",
      "['部品'] エンジン本体 燃料蒸気供給パイプ\n",
      "['部品'] エンジン本体 燃料蒸気供給ホース\n",
      "['部品'] エンジン本体 レギュレーター付き　オルタネーターアセンブリ\n",
      "['部品'] エンジン本体 エンジンマウント　ブラケット\n",
      "['部品'] エンジン本体 パワーウィンドウレギュレータ　モータアセンブリ\n",
      "['部品'] エンジン本体 ワッシャーボルト\n",
      "['部品'] エンジン本体 ワッシャープレート\n",
      "['部品'] エンジン本体 タイプT　オイルシール\n",
      "['部品'] エンジン本体 プラグ、ストレートスクリュー、ヘッド付き\n",
      "['部品'] エンジン本体 テーパーローラーベアリング\n",
      "['部品'] エンジン本体 カラー\n",
      "['部品'] エンジン本体 ブッシュ\n",
      "['部品'] エンジン本体 チューブ\n",
      "['部品'] エンジン本体 圧縮ばね\n",
      "['部品'] エンジン本体 ボルト\n",
      "['部品'] エンジン本体 バキュームスイッチングバルブ\n",
      "['部品'] エンジン本体 ドレンコック　アセンブリ\n",
      "['部品'] エンジン本体 バルブステム　オイルシール\n",
      "['部品'] エンジン本体 バルブスプリング　リテーナーロック\n",
      "['部品'] エンジン本体 リブベルト\n",
      "['部品'] エンジン本体 点火コイル\n",
      "['部品'] エンジン本体 スパークプラグ\n",
      "['部品'] エンジン本体 クランク位置\n",
      "['部品'] エンジン本体 持ち分\n",
      "['部品'] エンジン本体 ワッシャーハブ　ナット\n",
      "['部品'] エンジン搭載 ファン部品　モーター付き\n",
      "['部品'] エンジン搭載 ラジエーター　サポート\n",
      "['部品'] エンジン搭載 ラジエーター　ホース\n",
      "['部品'] エンジン搭載 アイドラープーリー\n",
      "['部品'] エンジン本体 シリンダーブロック　サブアッシー\n",
      "['部品'] エンジン本体 オイルパン　サブアッシー\n",
      "['部品'] エンジン本体 オイルフィルター　キャップアッシー\n",
      "['部品'] エンジン本体 接続ロッド　サブアッシー\n",
      "['部品'] エンジン本体 クランクシャフト　プーリーアセンブリ\n",
      "['部品'] エンジン本体 チェーンテンショナー　アッシー\n",
      "['部品'] エンジン本体 ファンプーリー\n",
      "['部品'] エンジン本体 ラジエーターキャップ\n",
      "['部品'] エンジン本体 ラジエーターキャップ　サブアッシー\n",
      "['部品'] エンジン本体 Vリブテンショナー　アッシー\n",
      "['部品'] エンジン本体 インテークマニホールド　アッシー\n",
      "['部品'] エンジン本体 排気マニホールドアッシー\n",
      "['部品'] エンジン本体 吸気サージタンクアッシー\n",
      "['部品'] エンジン本体 燃料フィレットバルブ　アッシー\n",
      "['部品'] エンジン本体 スロットルモーター　ボディアセンブリ\n",
      "['部品'] エンジン本体 燃料インジェクター\n",
      "['部品'] エンジン本体 パワーウィンドウレギュレータ　モーターアセンブリ\n"
     ]
    }
   ],
   "source": [
    "number = 0\n",
    "for k,v in events.items():\n",
    "    if v.type[-1]=='部品':\n",
    "        print(v.type,v.desc)\n",
    "        number += 1"
   ]
  },
  {
   "cell_type": "code",
   "execution_count": 26,
   "metadata": {},
   "outputs": [
    {
     "name": "stderr",
     "output_type": "stream",
     "text": [
      "/Users/wsiny/.pyenv/versions/3.8.2/lib/python3.8/site-packages/pandas/compat/__init__.py:117: UserWarning: Could not import the lzma module. Your installed Python is incomplete. Attempting to use lzma compression will result in a RuntimeError.\n",
      "  warnings.warn(msg)\n"
     ]
    }
   ],
   "source": [
    "import numpy as np\n",
    "from keras.layers import Dense\n",
    "from keras.models import Sequential\n",
    "from keras.utils import np_utils\n",
    "from sklearn.metrics import accuracy_score\n",
    "from sklearn.model_selection import train_test_split"
   ]
  },
  {
   "cell_type": "markdown",
   "metadata": {},
   "source": [
    "# データ作り"
   ]
  },
  {
   "cell_type": "code",
   "execution_count": 27,
   "metadata": {},
   "outputs": [],
   "source": [
    "class Label:\n",
    "    TAISAKU = 1\n",
    "    NASI = 0\n",
    "\n",
    "data = []\n",
    "labels = []\n",
    "number = 0\n",
    "# data \n",
    "for k1, v1 in events_doc2vec.items():\n",
    "    if v1.type[-1]=='部品':\n",
    "        for k2, v2 in events_doc2vec.items():\n",
    "            if v2.type[-1] == '対策':\n",
    "                x1 = model_doc.infer_vector(v1.tags)\n",
    "                x2 = model_doc.infer_vector(v2.tags)\n",
    "                data.extend([np.append(x1, x2)])\n",
    "                if v2 in v1.links:\n",
    "                    labels.append(Label.TAISAKU)\n",
    "                else:\n",
    "                    labels.append(Label.NASI)"
   ]
  },
  {
   "cell_type": "code",
   "execution_count": 28,
   "metadata": {},
   "outputs": [],
   "source": [
    "data = np.array(data)\n",
    "labels = np.array(labels)"
   ]
  },
  {
   "cell_type": "code",
   "execution_count": 29,
   "metadata": {},
   "outputs": [
    {
     "name": "stdout",
     "output_type": "stream",
     "text": [
      "data: [[ 0.37849137 -0.00249377 -0.12993084 ...  0.04587793 -0.20162961\n",
      "  -0.20666136]\n",
      " [ 0.41392267  0.02476834 -0.11782233 ...  0.20008853 -0.17636672\n",
      "  -0.39129692]\n",
      " [ 0.41759142  0.0365326  -0.12706666 ...  0.13764629 -0.25714076\n",
      "  -0.12622036]\n",
      " ...\n",
      " [ 0.3048881  -0.04506965 -0.02300045 ...  0.01170841 -0.13503624\n",
      "  -0.41412035]\n",
      " [ 0.27085957 -0.04944429 -0.01557983 ... -0.03673898 -0.13248235\n",
      "  -0.3479829 ]\n",
      " [ 0.27768967 -0.02736613  0.01128429 ...  0.04558801 -0.16423152\n",
      "  -0.25115624]]\n",
      "labels: [0 0 0 ... 0 0 0]\n",
      "labelの１の数: 7324\n"
     ]
    }
   ],
   "source": [
    "print('data:',data)\n",
    "print('labels:',labels)\n",
    "print('labelの１の数:',labels.sum())"
   ]
  },
  {
   "cell_type": "code",
   "execution_count": 30,
   "metadata": {},
   "outputs": [
    {
     "name": "stdout",
     "output_type": "stream",
     "text": [
      "data.shape (55533, 600)\n",
      "labels.shape (55533,)\n"
     ]
    }
   ],
   "source": [
    "print('data.shape', data.shape)\n",
    "print('labels.shape', labels.shape)"
   ]
  },
  {
   "cell_type": "code",
   "execution_count": 31,
   "metadata": {},
   "outputs": [],
   "source": [
    "x_train, x_test, y_train, y_test = train_test_split(data, labels, test_size=0.2)"
   ]
  },
  {
   "cell_type": "code",
   "execution_count": 32,
   "metadata": {},
   "outputs": [
    {
     "name": "stdout",
     "output_type": "stream",
     "text": [
      "トレーニングデータの全体の数: 44426\n",
      "トレーニングデータの1の数    : 5871\n",
      "トレーニングデータ1の割合    : 13.2 %\n",
      "テストデータの全体の数         : 11107\n",
      "テストデータの１の数            : 1453\n",
      "テストデータの1の割合          : 13.1 %\n"
     ]
    }
   ],
   "source": [
    "print('トレーニングデータの全体の数:',x_train.shape[0])\n",
    "print('トレーニングデータの1の数    :',y_train.sum())\n",
    "print('トレーニングデータ1の割合    :',round(y_train.sum()/x_train.shape[0]*100,1),'%')\n",
    "print('テストデータの全体の数         :',x_test.shape[0])\n",
    "print('テストデータの１の数            :',y_test.sum())\n",
    "print('テストデータの1の割合          :',round(y_test.sum()/x_test.shape[0]*100,1),'%')"
   ]
  },
  {
   "cell_type": "markdown",
   "metadata": {},
   "source": [
    "# 学習させる"
   ]
  },
  {
   "cell_type": "code",
   "execution_count": 33,
   "metadata": {},
   "outputs": [
    {
     "name": "stdout",
     "output_type": "stream",
     "text": [
      "Epoch 1/30\n",
      "2777/2777 [==============================] - 2s 619us/step - loss: 0.1828 - accuracy: 0.9325\n",
      "Epoch 2/30\n",
      "2777/2777 [==============================] - 2s 614us/step - loss: 0.0933 - accuracy: 0.9627\n",
      "Epoch 3/30\n",
      "2777/2777 [==============================] - 2s 607us/step - loss: 0.0717 - accuracy: 0.9722\n",
      "Epoch 4/30\n",
      "2777/2777 [==============================] - 2s 608us/step - loss: 0.0589 - accuracy: 0.9772\n",
      "Epoch 5/30\n",
      "2777/2777 [==============================] - 2s 638us/step - loss: 0.0500 - accuracy: 0.9810\n",
      "Epoch 6/30\n",
      "2777/2777 [==============================] - 1244s 448ms/step - loss: 0.0396 - accuracy: 0.9851\n",
      "Epoch 7/30\n",
      "2777/2777 [==============================] - 3s 903us/step - loss: 0.0356 - accuracy: 0.9857\n",
      "Epoch 8/30\n",
      "2777/2777 [==============================] - 2s 668us/step - loss: 0.0306 - accuracy: 0.9882\n",
      "Epoch 9/30\n",
      "2777/2777 [==============================] - 2s 647us/step - loss: 0.0277 - accuracy: 0.9890\n",
      "Epoch 10/30\n",
      "2777/2777 [==============================] - 2s 636us/step - loss: 0.0254 - accuracy: 0.9902\n",
      "Epoch 11/30\n",
      "2777/2777 [==============================] - 2s 661us/step - loss: 0.0258 - accuracy: 0.9897\n",
      "Epoch 12/30\n",
      "2777/2777 [==============================] - 2s 624us/step - loss: 0.0236 - accuracy: 0.9906\n",
      "Epoch 13/30\n",
      "2777/2777 [==============================] - 2s 611us/step - loss: 0.0224 - accuracy: 0.9907\n",
      "Epoch 14/30\n",
      "2777/2777 [==============================] - 2s 596us/step - loss: 0.0220 - accuracy: 0.9912\n",
      "Epoch 15/30\n",
      "2777/2777 [==============================] - 2s 597us/step - loss: 0.0212 - accuracy: 0.9911\n",
      "Epoch 16/30\n",
      "2777/2777 [==============================] - 2s 588us/step - loss: 0.0219 - accuracy: 0.9914\n",
      "Epoch 17/30\n",
      "2777/2777 [==============================] - 2s 606us/step - loss: 0.0200 - accuracy: 0.9919\n",
      "Epoch 18/30\n",
      "2777/2777 [==============================] - 2s 589us/step - loss: 0.0208 - accuracy: 0.9916\n",
      "Epoch 19/30\n",
      "2777/2777 [==============================] - 2s 588us/step - loss: 0.0186 - accuracy: 0.9923\n",
      "Epoch 20/30\n",
      "2777/2777 [==============================] - 2s 589us/step - loss: 0.0192 - accuracy: 0.9921\n",
      "Epoch 21/30\n",
      "2777/2777 [==============================] - 2s 630us/step - loss: 0.0174 - accuracy: 0.9928\n",
      "Epoch 22/30\n",
      "2777/2777 [==============================] - 2s 645us/step - loss: 0.0191 - accuracy: 0.9926\n",
      "Epoch 23/30\n",
      "2777/2777 [==============================] - 2s 607us/step - loss: 0.0184 - accuracy: 0.9924\n",
      "Epoch 24/30\n",
      "2777/2777 [==============================] - 2s 595us/step - loss: 0.0182 - accuracy: 0.9924\n",
      "Epoch 25/30\n",
      "2777/2777 [==============================] - 2s 593us/step - loss: 0.0170 - accuracy: 0.9926\n",
      "Epoch 26/30\n",
      "2777/2777 [==============================] - 2s 589us/step - loss: 0.0156 - accuracy: 0.9932\n",
      "Epoch 27/30\n",
      "2777/2777 [==============================] - 2s 593us/step - loss: 0.0171 - accuracy: 0.9930\n",
      "Epoch 28/30\n",
      "2777/2777 [==============================] - 2s 595us/step - loss: 0.0172 - accuracy: 0.9927\n",
      "Epoch 29/30\n",
      "2777/2777 [==============================] - 2s 600us/step - loss: 0.0155 - accuracy: 0.9930\n",
      "Epoch 30/30\n",
      "2777/2777 [==============================] - 2s 597us/step - loss: 0.0164 - accuracy: 0.9929\n",
      "accuracy: 98.81%\n"
     ]
    }
   ],
   "source": [
    "# y_train を one-hot 表現にする。\n",
    "y_train = np_utils.to_categorical(y_train)\n",
    "\n",
    "# モデルを作成する。\n",
    "model = Sequential()\n",
    "model.add(Dense(100, activation='relu', input_dim=600)) #activation\n",
    "model.add(Dense(100, activation='relu'))\n",
    "model.add(Dense(2, activation='softmax'))\n",
    "\n",
    "model.compile(\n",
    "    optimizer='adam', #最適化アルゴリズムの種類.sgd,rmsprop,adam,adagrad,nadam,adadeltaなどある。\n",
    "    loss='categorical_crossentropy', #損失関数名\n",
    "    metrics=['accuracy']) #訓練やテストの際にモデルを評価するための評価関数のリスト． 典型的には metrics=['accuracy']を使用する.\n",
    "\n",
    "# 学習を実行する。\n",
    "model.fit(x_train, y_train, batch_size=16, epochs=30) #epochs 学習回数,batch_size 重みを調整の際に行う平均化のときに使うデータの数（dataの数/batch_size回）×epochs\n",
    "\n",
    "# モデルを保存する。\n",
    "model.save('model.h5')\n",
    "\n",
    "# 推論する。\n",
    "prob = model.predict(x_test, batch_size=len(x_test))\n",
    "\n",
    "# 最も確率が高いのを推定クラスとする。\n",
    "y_pred = np.argmax(prob, axis=1)\n",
    "\n",
    "# 精度を検証する。\n",
    "accuracy = accuracy_score(y_test, y_pred)\n",
    "print('accuracy: {:.2%}'.format(accuracy))  # accuracy: 100.00%"
   ]
  },
  {
   "cell_type": "code",
   "execution_count": 34,
   "metadata": {},
   "outputs": [
    {
     "name": "stdout",
     "output_type": "stream",
     "text": [
      "Test loss: 0.03896130621433258\n",
      "Test accuracy: 0.9881156086921692\n"
     ]
    }
   ],
   "source": [
    "y_test = np_utils.to_categorical(y_test)\n",
    "score = model.evaluate(x_test, y_test, verbose=0)\n",
    "print('Test loss:', score[0])\n",
    "print('Test accuracy:', score[1])"
   ]
  },
  {
   "cell_type": "code",
   "execution_count": 35,
   "metadata": {},
   "outputs": [
    {
     "data": {
      "text/plain": [
       "array([[1., 0.],\n",
       "       [1., 0.],\n",
       "       [1., 0.],\n",
       "       ...,\n",
       "       [1., 0.],\n",
       "       [1., 0.],\n",
       "       [0., 1.]], dtype=float32)"
      ]
     },
     "execution_count": 35,
     "metadata": {},
     "output_type": "execute_result"
    }
   ],
   "source": [
    "y_test"
   ]
  },
  {
   "cell_type": "code",
   "execution_count": 36,
   "metadata": {},
   "outputs": [
    {
     "data": {
      "text/plain": [
       "(11107, 600)"
      ]
     },
     "execution_count": 36,
     "metadata": {},
     "output_type": "execute_result"
    }
   ],
   "source": [
    "x_test.shape"
   ]
  },
  {
   "cell_type": "code",
   "execution_count": 37,
   "metadata": {},
   "outputs": [
    {
     "name": "stdout",
     "output_type": "stream",
     "text": [
      "予測が失敗した数: 132\n",
      "0の予測が失敗した数: 60\n",
      "1の予測が失敗した数: 72\n"
     ]
    }
   ],
   "source": [
    "pre = model.predict(x_test)\n",
    "miss_count = 0\n",
    "miss_count_1 = 0\n",
    "for i,v in enumerate(pre):\n",
    "    pre_ans = v.argmax()\n",
    "    ans = y_test[i].argmax()\n",
    "    dat = x_test[i]\n",
    "    if ans == pre_ans: continue\n",
    "    miss_count +=1\n",
    "    if ans == 1:\n",
    "        miss_count_1 += 1\n",
    "print('予測が失敗した数:',miss_count)\n",
    "print('0の予測が失敗した数:',miss_count-miss_count_1)\n",
    "print('1の予測が失敗した数:',miss_count_1)"
   ]
  },
  {
   "cell_type": "code",
   "execution_count": 38,
   "metadata": {},
   "outputs": [
    {
     "name": "stdout",
     "output_type": "stream",
     "text": [
      "全体の正解率: 0.988115602773026\n",
      "0の正解率    : 0.9937849596022374\n",
      "1の正解率    : 0.9504473503097041\n"
     ]
    }
   ],
   "source": [
    "count_1 = sum([i.argmax() for i in y_test]) #テストデータの１の数\n",
    "    \n",
    "print('全体の正解率:',1-miss_count/x_test.shape[0])\n",
    "print('0の正解率    :',1-(miss_count - miss_count_1)/(x_test.shape[0]-count_1))\n",
    "print('1の正解率    :',1-miss_count_1/count_1)"
   ]
  },
  {
   "cell_type": "code",
   "execution_count": 39,
   "metadata": {},
   "outputs": [],
   "source": [
    "data2 = []\n",
    "labels2 = []\n",
    "text1 = 'ガソリンを燃料タンクからエンジンに送り込む燃料ポンプに不具合があり'\n",
    "text2 = 'トヨタ自動車'\n",
    "text3 = '燃料電池システムを最適化'\n",
    "text4 = 'ザリガニ釣りの男の子'\n",
    "text5 = 'バーチャル修学旅行'\n",
    "lists = [text1,text2,text3,text4,text5]\n",
    "for k1, v1 in events_doc2vec.items():\n",
    "    if v1.type[-1]=='部品':\n",
    "        for text in lists:\n",
    "            x1 = model_doc.infer_vector(v1.tags)\n",
    "            x2 = model_doc.infer_vector(get_tags_for_doc2vec(text))\n",
    "            data2.extend([np.append(x1,x2)])\n",
    "            labels2.append(Label.NASI)"
   ]
  },
  {
   "cell_type": "code",
   "execution_count": 41,
   "metadata": {},
   "outputs": [
    {
     "name": "stdout",
     "output_type": "stream",
     "text": [
      "(865, 600)\n",
      "(865,)\n"
     ]
    }
   ],
   "source": [
    "print(data2.shape)\n",
    "print(labels2.shape)"
   ]
  },
  {
   "cell_type": "code",
   "execution_count": 42,
   "metadata": {},
   "outputs": [],
   "source": [
    "data2 = np.delete(data2, -1, 0)\n",
    "labels2 = np.delete(labels2,-1,0)"
   ]
  },
  {
   "cell_type": "code",
   "execution_count": 43,
   "metadata": {},
   "outputs": [
    {
     "name": "stdout",
     "output_type": "stream",
     "text": [
      "(864, 600)\n",
      "(864,)\n"
     ]
    }
   ],
   "source": [
    "print(data2.shape)\n",
    "print(labels2.shape)"
   ]
  },
  {
   "cell_type": "code",
   "execution_count": 44,
   "metadata": {},
   "outputs": [
    {
     "name": "stdout",
     "output_type": "stream",
     "text": [
      "accuracy: 90.62%\n"
     ]
    }
   ],
   "source": [
    "# 推論する。\n",
    "prob = model.predict(data2, batch_size=len(data2))\n",
    "\n",
    "# 最も確率が高いのを推定クラスとする。\n",
    "y_pred = np.argmax(prob, axis=1)\n",
    "\n",
    "# 精度を検証する。\n",
    "accuracy = accuracy_score(labels2, y_pred)\n",
    "print('accuracy: {:.2%}'.format(accuracy))"
   ]
  },
  {
   "cell_type": "code",
   "execution_count": 45,
   "metadata": {},
   "outputs": [
    {
     "name": "stdout",
     "output_type": "stream",
     "text": [
      "予測が失敗した数: 81\n",
      "0の予測が失敗した数: 81\n",
      "1の予測が失敗した数: 0\n",
      "ガソリンを燃料タンクからエンジンに送り込む燃料ポンプに不具合があり      52\n",
      "トヨタ自動車      12\n",
      "燃料電池システムを最適化       0\n",
      "ザリガニ釣りの男の子      17\n",
      "バーチャル修学旅行       0\n"
     ]
    }
   ],
   "source": [
    "pre = model.predict(data2)\n",
    "miss_count = 0\n",
    "miss_count_1 = 0\n",
    "textcount = [0,0,0,0,0]\n",
    "for i,v in enumerate(pre):\n",
    "    pre_ans = v.argmax()\n",
    "    ans = labels2[i].argmax()\n",
    "    dat = data2[i]\n",
    "    if ans == pre_ans: continue\n",
    "    miss_count +=1\n",
    "    i = str(i)\n",
    "    if i[-1] == '1' or i[-1] == '6':\n",
    "        textcount[0] += 1\n",
    "    if i[-1] == '2' or i[-1] == '7':\n",
    "        textcount[1] += 1\n",
    "    if i[-1] == '3' or i[-1] == '8':\n",
    "        textcount[2] += 1\n",
    "    if i[-1] == '4' or i[-1] == '9':\n",
    "        textcount[3] += 1\n",
    "    if i[-1] == '5' or i[-1] == '0':\n",
    "        textcount[4] += 1\n",
    "    if ans == 1:\n",
    "        miss_count_1 += 1\n",
    "print('予測が失敗した数:',miss_count)\n",
    "print('0の予測が失敗した数:',miss_count-miss_count_1)\n",
    "print('1の予測が失敗した数:',miss_count_1)\n",
    "\n",
    "textlist = [text1,text2,text3,text4,text5]\n",
    "for i in range(5):\n",
    "    print('{}{: >8}'.format(textlist[i],textcount[i]))"
   ]
  },
  {
   "cell_type": "code",
   "execution_count": 46,
   "metadata": {},
   "outputs": [
    {
     "name": "stdout",
     "output_type": "stream",
     "text": [
      "全体の正解率: 0.90625\n",
      "0の正解率    : 0.90625\n",
      "1の正解率    : nan\n"
     ]
    },
    {
     "name": "stderr",
     "output_type": "stream",
     "text": [
      "<ipython-input-46-85387e04d97f>:5: RuntimeWarning: invalid value encountered in long_scalars\n",
      "  print('1の正解率    :',1-miss_count_1/count_1)\n"
     ]
    }
   ],
   "source": [
    "count_1 = sum([i.argmax() for i in labels2]) #テストデータの１の数\n",
    "    \n",
    "print('全体の正解率:',1-miss_count/data2.shape[0])\n",
    "print('0の正解率    :',1-(miss_count - miss_count_1)/(data2.shape[0]-count_1))\n",
    "print('1の正解率    :',1-miss_count_1/count_1)"
   ]
  },
  {
   "cell_type": "code",
   "execution_count": 47,
   "metadata": {},
   "outputs": [
    {
     "data": {
      "image/png": "[encoded data removed]",
      "text/plain": [
       "<Figure size 720x576 with 2 Axes>"
      ]
     },
     "metadata": {
      "needs_background": "light"
     },
     "output_type": "display_data"
    }
   ],
   "source": [
    "from tensorflow.keras.models import Sequential\n",
    "from tensorflow.keras.layers import Activation\n",
    "import numpy as np\n",
    "import matplotlib.pyplot as plt\n",
    "\n",
    "x = np.linspace(-5, 5, 101).reshape(-1, 1)\n",
    "\n",
    "# 絶対値の範囲が 有限なもの\n",
    "activations_0 = [\n",
    "    \"sigmoid\",\n",
    "    \"tanh\",\n",
    "    \"hard_sigmoid\",\n",
    "    \"softsign\",\n",
    "    ]\n",
    "\n",
    "# 絶対値の範囲に上限がないもの\n",
    "activations_1 = [\n",
    "    \"elu\",\n",
    "    \"selu\",\n",
    "    \"softplus\",\n",
    "    \"relu\",\n",
    "    \"linear\",\n",
    "]\n",
    "\n",
    "fig = plt.figure(figsize=(10, 8))\n",
    "for i, activations in enumerate([activations_0, activations_1]):\n",
    "    ax = fig.add_subplot(2, 1,  i+1)\n",
    "    for activation_str in activations:\n",
    "        model = Sequential()\n",
    "        model.add(\n",
    "            Activation(\n",
    "                activation_str,\n",
    "                input_shape=(1, ),\n",
    "            )\n",
    "        )\n",
    "        y = model.predict(x).ravel()\n",
    "        ax.plot(x, y, label=activation_str)\n",
    "\n",
    "    ax.legend()\n",
    "\n",
    "plt.show()"
   ]
  }
 ],
 "metadata": {
  "kernelspec": {
   "display_name": "Python 3",
   "language": "python",
   "name": "python3"
  },
  "language_info": {
   "codemirror_mode": {
    "name": "ipython",
    "version": 3
   },
   "file_extension": ".py",
   "mimetype": "text/x-python",
   "name": "python",
   "nbconvert_exporter": "python",
   "pygments_lexer": "ipython3",
   "version": "3.8.2"
  }
 },
 "nbformat": 4,
 "nbformat_minor": 4
}
